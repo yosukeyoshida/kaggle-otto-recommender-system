{
 "cells": [
  {
   "cell_type": "code",
   "execution_count": 1,
   "id": "5701ffdd-4696-4357-adb6-b5bfe5e37841",
   "metadata": {},
   "outputs": [],
   "source": [
    "import os\n",
    "import pickle\n",
    "import pandas as pd\n",
    "import glob\n",
    "import cudf\n",
    "from datetime import datetime\n",
    "import numpy as np\n",
    "pd.options.display.max_rows = 999\n",
    "\n",
    "\n",
    "def read_file(f):\n",
    "    df = cudf.read_parquet(f)\n",
    "    df.ts = (df.ts / 1000).astype(\"int32\")\n",
    "    return df\n",
    "\n",
    "def load_files(file_path):\n",
    "    dfs = []\n",
    "    # file_path = \"./input/otto-validation/test_parquet/*\"\n",
    "    for e, chunk_file in enumerate(glob.glob(file_path)):\n",
    "        chunk = pd.read_parquet(chunk_file)\n",
    "        dfs.append(chunk)\n",
    "    df = pd.concat(dfs).reset_index(drop=True).astype({\"ts\": \"datetime64[ms]\"})\n",
    "    return df"
   ]
  },
  {
   "cell_type": "code",
   "execution_count": 2,
   "id": "85fc9d40-14a4-4a40-8b06-b5db52c5f1bb",
   "metadata": {},
   "outputs": [],
   "source": [
    "train_df = load_files(\"./input/otto-validation/train_parquet/*\")\n",
    "test_df = load_files(\"./input/otto-validation/test_parquet/*\")"
   ]
  },
  {
   "cell_type": "code",
   "execution_count": 3,
   "id": "10046ae1-8b4f-41c9-882c-183d6ec6d5bc",
   "metadata": {},
   "outputs": [
    {
     "name": "stdout",
     "output_type": "stream",
     "text": [
      "(1755534, 10)\n",
      "(306341, 10)\n",
      "(150817, 10)\n"
     ]
    }
   ],
   "source": [
    "click_df = pickle.load(open(\"output/cv/test_labels_clicks.pkl\", \"rb\"))\n",
    "cart_df = pickle.load(open(\"output/cv/test_labels_carts.pkl\", \"rb\"))\n",
    "order_df = pickle.load(open(\"output/cv/test_labels_orders.pkl\", \"rb\"))\n",
    "\n",
    "print(click_df.shape)\n",
    "print(cart_df.shape)\n",
    "print(order_df.shape)"
   ]
  },
  {
   "cell_type": "code",
   "execution_count": 8,
   "id": "3bf84794-a862-4180-a61b-d50ce1e4727f",
   "metadata": {},
   "outputs": [],
   "source": [
    "test_labels = pd.read_parquet(\"./input/otto-validation/test_labels.parquet\")\n",
    "test_labels[\"gt_len\"] = test_labels[\"ground_truth\"].str.len()"
   ]
  },
  {
   "cell_type": "code",
   "execution_count": 9,
   "id": "9c2eaca7-2509-4ffa-b761-56887d4d6bc1",
   "metadata": {},
   "outputs": [],
   "source": [
    "top_clicks = test_df.loc[test_df[\"type\"] == \"clicks\", \"aid\"].value_counts().index.values[:20]\n",
    "top_orders = test_df.loc[test_df[\"type\"] == \"orders\", \"aid\"].value_counts().index.values[:20]"
   ]
  },
  {
   "cell_type": "code",
   "execution_count": 10,
   "id": "3fc1063a-340b-4185-a84c-35b40de27cce",
   "metadata": {},
   "outputs": [
    {
     "data": {
      "text/plain": [
       "0    85085\n",
       "1      768\n",
       "2        1\n",
       "Name: intersection_top_gt_len, dtype: int64"
      ]
     },
     "execution_count": 10,
     "metadata": {},
     "output_type": "execute_result"
    }
   ],
   "source": [
    "cart_df[\"top_len\"] = cart_df[\"top\"].str.len()\n",
    "cart_df[\"intersection_top_gt\"] = cart_df.apply(lambda x: list(set(x[\"ground_truth\"]) & set(x[\"top\"])), axis=1)\n",
    "cart_df[\"intersection_top_gt_len\"] = cart_df[\"intersection_top_gt\"].str.len()\n",
    "cart_df[cart_df[\"top_len\"] > 0][\"intersection_top_gt_len\"].value_counts()"
   ]
  },
  {
   "cell_type": "code",
   "execution_count": 11,
   "id": "41f939b0-de5b-4381-9513-3213a60965c2",
   "metadata": {},
   "outputs": [
    {
     "data": {
      "text/plain": [
       "0    25988\n",
       "1       28\n",
       "Name: intersection_top_gt_len, dtype: int64"
      ]
     },
     "execution_count": 11,
     "metadata": {},
     "output_type": "execute_result"
    }
   ],
   "source": [
    "click_df[\"top_len\"] = click_df[\"top\"].str.len()\n",
    "click_df[\"intersection_top_gt\"] = click_df.apply(lambda x: list(set(x[\"ground_truth\"]) & set(x[\"top\"])), axis=1)\n",
    "click_df[\"intersection_top_gt_len\"] = click_df[\"intersection_top_gt\"].str.len()\n",
    "click_df[click_df[\"top_len\"] > 0][\"intersection_top_gt_len\"].value_counts()"
   ]
  },
  {
   "cell_type": "code",
   "execution_count": 12,
   "id": "91e0e053-05b6-4eab-9d86-8478d63f9b5c",
   "metadata": {},
   "outputs": [
    {
     "data": {
      "text/plain": [
       "0    28299\n",
       "1      289\n",
       "Name: intersection_top_gt_len, dtype: int64"
      ]
     },
     "execution_count": 12,
     "metadata": {},
     "output_type": "execute_result"
    }
   ],
   "source": [
    "order_df[\"top_len\"] = order_df[\"top\"].str.len()\n",
    "order_df[\"intersection_top_gt\"] = order_df.apply(lambda x: list(set(x[\"ground_truth\"]) & set(x[\"top\"])), axis=1)\n",
    "order_df[\"intersection_top_gt_len\"] = order_df[\"intersection_top_gt\"].str.len()\n",
    "order_df[order_df[\"top_len\"] > 0][\"intersection_top_gt_len\"].value_counts()"
   ]
  },
  {
   "cell_type": "code",
   "execution_count": 13,
   "id": "446fa05c-7d26-4e39-a1fe-f680a5bd4010",
   "metadata": {},
   "outputs": [
    {
     "data": {
      "text/html": [
       "<div>\n",
       "<style scoped>\n",
       "    .dataframe tbody tr th:only-of-type {\n",
       "        vertical-align: middle;\n",
       "    }\n",
       "\n",
       "    .dataframe tbody tr th {\n",
       "        vertical-align: top;\n",
       "    }\n",
       "\n",
       "    .dataframe thead th {\n",
       "        text-align: right;\n",
       "    }\n",
       "</style>\n",
       "<table border=\"1\" class=\"dataframe\">\n",
       "  <thead>\n",
       "    <tr style=\"text-align: right;\">\n",
       "      <th></th>\n",
       "      <th>session</th>\n",
       "      <th>type</th>\n",
       "      <th>ground_truth</th>\n",
       "      <th>session_type</th>\n",
       "      <th>top_n</th>\n",
       "      <th>top</th>\n",
       "      <th>labels</th>\n",
       "      <th>hits</th>\n",
       "      <th>gt_count</th>\n",
       "      <th>recall</th>\n",
       "      <th>top_len</th>\n",
       "      <th>intersection_top_gt</th>\n",
       "      <th>intersection_top_gt_len</th>\n",
       "    </tr>\n",
       "  </thead>\n",
       "  <tbody>\n",
       "    <tr>\n",
       "      <th>0</th>\n",
       "      <td>11098528</td>\n",
       "      <td>carts</td>\n",
       "      <td>[1199737]</td>\n",
       "      <td>11098528_carts</td>\n",
       "      <td>[11830, 1732105, 588923, 884502, 876129, 11578...</td>\n",
       "      <td>[876493, 1406660, 1236775, 166037]</td>\n",
       "      <td>[11830, 1732105, 588923, 884502, 876129, 11578...</td>\n",
       "      <td>0</td>\n",
       "      <td>1</td>\n",
       "      <td>0.0</td>\n",
       "      <td>4</td>\n",
       "      <td>[]</td>\n",
       "      <td>0</td>\n",
       "    </tr>\n",
       "    <tr>\n",
       "      <th>11</th>\n",
       "      <td>11098555</td>\n",
       "      <td>carts</td>\n",
       "      <td>[1849620]</td>\n",
       "      <td>11098555_carts</td>\n",
       "      <td>[1849620, 205767, 161054, 1699061, 66403, 3297...</td>\n",
       "      <td>[876493, 1406660, 1236775, 166037]</td>\n",
       "      <td>[1849620, 205767, 161054, 1699061, 66403, 3297...</td>\n",
       "      <td>1</td>\n",
       "      <td>1</td>\n",
       "      <td>1.0</td>\n",
       "      <td>4</td>\n",
       "      <td>[]</td>\n",
       "      <td>0</td>\n",
       "    </tr>\n",
       "    <tr>\n",
       "      <th>17</th>\n",
       "      <td>11098568</td>\n",
       "      <td>carts</td>\n",
       "      <td>[751895]</td>\n",
       "      <td>11098568_carts</td>\n",
       "      <td>[1808304, 519330, 1399038, 308483, 1619978, 10...</td>\n",
       "      <td>[876493, 1406660, 1236775, 166037]</td>\n",
       "      <td>[1808304, 519330, 1399038, 308483, 1619978, 10...</td>\n",
       "      <td>1</td>\n",
       "      <td>1</td>\n",
       "      <td>1.0</td>\n",
       "      <td>4</td>\n",
       "      <td>[]</td>\n",
       "      <td>0</td>\n",
       "    </tr>\n",
       "    <tr>\n",
       "      <th>22</th>\n",
       "      <td>11098580</td>\n",
       "      <td>carts</td>\n",
       "      <td>[906875]</td>\n",
       "      <td>11098580_carts</td>\n",
       "      <td>[255676, 126566, 550852, 1142902, 216819, 1219...</td>\n",
       "      <td>[876493, 1406660, 1236775, 166037]</td>\n",
       "      <td>[255676, 126566, 550852, 1142902, 216819, 1219...</td>\n",
       "      <td>0</td>\n",
       "      <td>1</td>\n",
       "      <td>0.0</td>\n",
       "      <td>4</td>\n",
       "      <td>[]</td>\n",
       "      <td>0</td>\n",
       "    </tr>\n",
       "    <tr>\n",
       "      <th>33</th>\n",
       "      <td>11098606</td>\n",
       "      <td>carts</td>\n",
       "      <td>[1629491]</td>\n",
       "      <td>11098606_carts</td>\n",
       "      <td>[1216616, 385065, 1782099, 184976, 1160293, 11...</td>\n",
       "      <td>[876493, 1406660, 1236775, 166037]</td>\n",
       "      <td>[1216616, 385065, 1782099, 184976, 1160293, 11...</td>\n",
       "      <td>0</td>\n",
       "      <td>1</td>\n",
       "      <td>0.0</td>\n",
       "      <td>4</td>\n",
       "      <td>[]</td>\n",
       "      <td>0</td>\n",
       "    </tr>\n",
       "  </tbody>\n",
       "</table>\n",
       "</div>"
      ],
      "text/plain": [
       "     session   type ground_truth    session_type  \\\n",
       "0   11098528  carts    [1199737]  11098528_carts   \n",
       "11  11098555  carts    [1849620]  11098555_carts   \n",
       "17  11098568  carts     [751895]  11098568_carts   \n",
       "22  11098580  carts     [906875]  11098580_carts   \n",
       "33  11098606  carts    [1629491]  11098606_carts   \n",
       "\n",
       "                                                top_n  \\\n",
       "0   [11830, 1732105, 588923, 884502, 876129, 11578...   \n",
       "11  [1849620, 205767, 161054, 1699061, 66403, 3297...   \n",
       "17  [1808304, 519330, 1399038, 308483, 1619978, 10...   \n",
       "22  [255676, 126566, 550852, 1142902, 216819, 1219...   \n",
       "33  [1216616, 385065, 1782099, 184976, 1160293, 11...   \n",
       "\n",
       "                                   top  \\\n",
       "0   [876493, 1406660, 1236775, 166037]   \n",
       "11  [876493, 1406660, 1236775, 166037]   \n",
       "17  [876493, 1406660, 1236775, 166037]   \n",
       "22  [876493, 1406660, 1236775, 166037]   \n",
       "33  [876493, 1406660, 1236775, 166037]   \n",
       "\n",
       "                                               labels  hits  gt_count  recall  \\\n",
       "0   [11830, 1732105, 588923, 884502, 876129, 11578...     0         1     0.0   \n",
       "11  [1849620, 205767, 161054, 1699061, 66403, 3297...     1         1     1.0   \n",
       "17  [1808304, 519330, 1399038, 308483, 1619978, 10...     1         1     1.0   \n",
       "22  [255676, 126566, 550852, 1142902, 216819, 1219...     0         1     0.0   \n",
       "33  [1216616, 385065, 1782099, 184976, 1160293, 11...     0         1     0.0   \n",
       "\n",
       "    top_len intersection_top_gt  intersection_top_gt_len  \n",
       "0         4                  []                        0  \n",
       "11        4                  []                        0  \n",
       "17        4                  []                        0  \n",
       "22        4                  []                        0  \n",
       "33        4                  []                        0  "
      ]
     },
     "execution_count": 13,
     "metadata": {},
     "output_type": "execute_result"
    }
   ],
   "source": [
    "cart_df[cart_df[\"top_len\"] > 0].head()"
   ]
  },
  {
   "cell_type": "code",
   "execution_count": 15,
   "id": "c7280b92-7063-448b-ab86-6e3f78ec5535",
   "metadata": {},
   "outputs": [
    {
     "data": {
      "text/plain": [
       "False"
      ]
     },
     "execution_count": 15,
     "metadata": {},
     "output_type": "execute_result"
    }
   ],
   "source": [
    "1199737 in top_orders"
   ]
  },
  {
   "cell_type": "code",
   "execution_count": 16,
   "id": "c2fd638d-02a6-43fb-8291-4c8f286b623e",
   "metadata": {},
   "outputs": [
    {
     "data": {
      "text/plain": [
       "False"
      ]
     },
     "execution_count": 16,
     "metadata": {},
     "output_type": "execute_result"
    }
   ],
   "source": [
    "1199737 in top_clicks"
   ]
  },
  {
   "cell_type": "code",
   "execution_count": 17,
   "id": "7e3eaf62-fc8b-4438-b5bc-75d4b1ff4c8e",
   "metadata": {},
   "outputs": [],
   "source": [
    "top_carts = test_df.loc[test_df[\"type\"] == \"carts\", \"aid\"].value_counts().index.values[:20]"
   ]
  },
  {
   "cell_type": "code",
   "execution_count": 18,
   "id": "92e0add0-9cbe-49e0-826e-08a59f2bd3f3",
   "metadata": {},
   "outputs": [
    {
     "data": {
      "text/plain": [
       "False"
      ]
     },
     "execution_count": 18,
     "metadata": {},
     "output_type": "execute_result"
    }
   ],
   "source": [
    "1199737 in top_carts"
   ]
  },
  {
   "cell_type": "code",
   "execution_count": 26,
   "id": "6ea4454b-7ce4-400a-b1a3-a5af36f0258b",
   "metadata": {},
   "outputs": [],
   "source": [
    "top_orders = train_df.loc[train_df[\"type\"] == \"orders\", \"aid\"].value_counts()[:30]"
   ]
  },
  {
   "cell_type": "code",
   "execution_count": 27,
   "id": "fc5e9b23-0ea4-4c65-a456-49d0412c6f54",
   "metadata": {},
   "outputs": [
    {
     "data": {
      "text/plain": [
       "False"
      ]
     },
     "execution_count": 27,
     "metadata": {},
     "output_type": "execute_result"
    }
   ],
   "source": [
    "1199737 in top_orders"
   ]
  },
  {
   "cell_type": "code",
   "execution_count": null,
   "id": "017641ba-1b04-4073-b8de-91a5a092a703",
   "metadata": {},
   "outputs": [],
   "source": []
  },
  {
   "cell_type": "code",
   "execution_count": null,
   "id": "410cc9bc-1219-450d-a853-6279864ddb85",
   "metadata": {},
   "outputs": [],
   "source": [
    "train_df[train_df[\"session\"] == 11098528]"
   ]
  },
  {
   "cell_type": "code",
   "execution_count": null,
   "id": "3cc2c69f-45c5-4d7c-9ab1-9de5de608163",
   "metadata": {},
   "outputs": [],
   "source": [
    "test_df[test_df[\"session\"] == 11098528]"
   ]
  },
  {
   "cell_type": "code",
   "execution_count": null,
   "id": "3dbafade-6e25-466a-a52c-dd92e6ac65cf",
   "metadata": {},
   "outputs": [],
   "source": [
    "test_labels[test_labels[\"session\"] == 11098528]"
   ]
  },
  {
   "cell_type": "code",
   "execution_count": null,
   "id": "cab19d37-31b3-41f3-924b-b8bf6ac8275a",
   "metadata": {},
   "outputs": [],
   "source": [
    "click_df[click_df[\"session\"] == 11098528]"
   ]
  },
  {
   "cell_type": "code",
   "execution_count": null,
   "id": "fde0a60c-f71c-45b7-be84-e55503acf193",
   "metadata": {},
   "outputs": [],
   "source": [
    "top_orders"
   ]
  },
  {
   "cell_type": "code",
   "execution_count": null,
   "id": "defb6074-c8ad-47ff-abdc-5b1917a89e8e",
   "metadata": {},
   "outputs": [],
   "source": [
    "# file_path = \"./input/otto-chunk-data-inparquet-format/*_parquet/*\"\n",
    "file_path = \"./input/otto-validation/*_parquet/*\"\n",
    "all_df = load_files(file_path)"
   ]
  },
  {
   "cell_type": "code",
   "execution_count": null,
   "id": "e7d75f06-ea81-410e-a7c7-f7c6e73e6213",
   "metadata": {},
   "outputs": [],
   "source": [
    "all_df.shape"
   ]
  },
  {
   "cell_type": "code",
   "execution_count": null,
   "id": "12d7adad-6d65-4921-8592-df01b16b21ab",
   "metadata": {},
   "outputs": [],
   "source": [
    "all_df.shape"
   ]
  },
  {
   "cell_type": "code",
   "execution_count": null,
   "id": "d89ea443-7a54-42e7-baf8-f103e48543ca",
   "metadata": {},
   "outputs": [],
   "source": [
    "all_df[all_df[\"session\"] == 11098528]"
   ]
  },
  {
   "cell_type": "code",
   "execution_count": null,
   "id": "eba80459-b87c-4204-911c-780bcd61d0e0",
   "metadata": {},
   "outputs": [],
   "source": []
  }
 ],
 "metadata": {
  "kernelspec": {
   "display_name": "Python 3 (ipykernel)",
   "language": "python",
   "name": "python3"
  },
  "language_info": {
   "codemirror_mode": {
    "name": "ipython",
    "version": 3
   },
   "file_extension": ".py",
   "mimetype": "text/x-python",
   "name": "python",
   "nbconvert_exporter": "python",
   "pygments_lexer": "ipython3",
   "version": "3.9.12"
  }
 },
 "nbformat": 4,
 "nbformat_minor": 5
}
