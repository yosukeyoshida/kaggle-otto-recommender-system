{
 "cells": [
  {
   "cell_type": "code",
   "execution_count": 2,
   "id": "9791b304-9fd5-4df8-b276-7d5342c85e92",
   "metadata": {},
   "outputs": [],
   "source": [
    "import gc\n",
    "import argparse\n",
    "import pickle\n",
    "import os\n",
    "from typing import Any, List\n",
    "\n",
    "import numpy as np\n",
    "import pandas as pd\n",
    "import polars as pl\n",
    "import torch\n",
    "from pydantic import BaseModel\n",
    "from recbole.config import Config\n",
    "from recbole.data import create_dataset, data_preparation\n",
    "from recbole.data.interaction import Interaction\n",
    "from recbole.model.sequential_recommender import GRU4Rec\n",
    "from recbole.trainer import Trainer\n",
    "from recbole.utils import init_logger, init_seed\n",
    "\n",
    "import wandb\n",
    "\n",
    "\n",
    "class CFG:\n",
    "    wandb = False\n",
    "    debug = False\n",
    "    use_saved_dataset = False\n",
    "    model_name = \"gru4rec\"\n",
    "    MAX_ITEM = 30\n",
    "    candidates_num = 20\n",
    "\n",
    "\n",
    "class ItemHistory(BaseModel):\n",
    "    sequence: List[str]\n",
    "    topk: int\n",
    "\n",
    "\n",
    "class RecommendedItems(BaseModel):\n",
    "    score_list: List[float]\n",
    "    item_list: List[str]\n",
    "\n",
    "\n",
    "def pred_user_to_item(item_history: ItemHistory, dataset: Any, model: Any):\n",
    "    item_history_dict = item_history.dict()\n",
    "    item_sequence = item_history_dict[\"sequence\"]\n",
    "    item_length = len(item_sequence)\n",
    "    pad_length = CFG.MAX_ITEM  # pre-defined by recbole\n",
    "\n",
    "    padded_item_sequence = torch.nn.functional.pad(\n",
    "        torch.tensor(dataset.token2id(dataset.iid_field, item_sequence)),\n",
    "        (0, pad_length - item_length),\n",
    "        \"constant\",\n",
    "        0,\n",
    "    )\n",
    "\n",
    "    input_interaction = Interaction(\n",
    "        {\n",
    "            \"aid_list\": padded_item_sequence.reshape(1, -1),\n",
    "            \"item_length\": torch.tensor([item_length]),\n",
    "        }\n",
    "    )\n",
    "    scores = model.full_sort_predict(input_interaction.to(model.device))\n",
    "    scores = scores.view(-1, dataset.item_num)\n",
    "    scores[:, 0] = -np.inf  # pad item score -> -inf\n",
    "    topk_score, topk_iid_list = torch.topk(scores, item_history_dict[\"topk\"])\n",
    "\n",
    "    predicted_score_list = topk_score.tolist()[0]\n",
    "    predicted_item_list = dataset.id2token(dataset.iid_field, topk_iid_list.tolist()).tolist()\n",
    "\n",
    "    recommended_items = {\n",
    "        \"score_list\": predicted_score_list,\n",
    "        \"item_list\": predicted_item_list,\n",
    "    }\n",
    "    return recommended_items"
   ]
  },
  {
   "cell_type": "code",
   "execution_count": 3,
   "id": "21e1972c-27d2-4635-8302-256587f9cdd7",
   "metadata": {},
   "outputs": [],
   "source": [
    "pred_df = pd.read_csv(\"output/gru4rec/avid-cloud-284/cv/pred_df.csv\")"
   ]
  },
  {
   "cell_type": "code",
   "execution_count": 5,
   "id": "46af7cf4-3fed-4b3b-a981-991b7f3fe132",
   "metadata": {},
   "outputs": [],
   "source": [
    "prediction_dfs = []\n",
    "for st in [\"clicks\", \"carts\", \"orders\"]:\n",
    "    modified_predictions = pred_df.copy()\n",
    "    modified_predictions[\"type\"] = st\n",
    "    prediction_dfs.append(modified_predictions)\n",
    "prediction_dfs = pd.concat(prediction_dfs).reset_index(drop=True)"
   ]
  },
  {
   "cell_type": "code",
   "execution_count": 6,
   "id": "afff00e9-a840-49a6-9395-877fb8534c96",
   "metadata": {},
   "outputs": [],
   "source": [
    "pred_df = prediction_dfs"
   ]
  },
  {
   "cell_type": "code",
   "execution_count": 7,
   "id": "1b69511f-9c38-464c-8523-ca602c738463",
   "metadata": {},
   "outputs": [
    {
     "data": {
      "text/plain": [
       "(227400, 4)"
      ]
     },
     "execution_count": 7,
     "metadata": {},
     "output_type": "execute_result"
    }
   ],
   "source": [
    "pred_df.shape"
   ]
  },
  {
   "cell_type": "code",
   "execution_count": 8,
   "id": "6d09f022-b77a-4f5d-9904-f34dba45f574",
   "metadata": {},
   "outputs": [],
   "source": [
    "score_potential = 0\n",
    "score_20 = 0\n",
    "weights = {\"clicks\": 0.10, \"carts\": 0.30, \"orders\": 0.60}"
   ]
  },
  {
   "cell_type": "code",
   "execution_count": 9,
   "id": "c443368a-6147-461c-af64-0784b3397211",
   "metadata": {},
   "outputs": [],
   "source": [
    "t=\"clicks\"\n",
    "output_dir = \".\""
   ]
  },
  {
   "cell_type": "code",
   "execution_count": 10,
   "id": "516ecd54-910e-485f-be59-14ac223da909",
   "metadata": {},
   "outputs": [],
   "source": [
    "sub = pred_df.loc[pred_df[\"type\"] == t].copy()"
   ]
  },
  {
   "cell_type": "code",
   "execution_count": 11,
   "id": "5fef5261-4208-4cda-8096-5ac8d6edc301",
   "metadata": {},
   "outputs": [
    {
     "data": {
      "text/plain": [
       "(1755534, 4)"
      ]
     },
     "execution_count": 11,
     "metadata": {},
     "output_type": "execute_result"
    }
   ],
   "source": [
    "sub = sub.groupby(\"session\")[\"aid\"].apply(list)\n",
    "test_labels = pd.read_parquet(\"./input/otto-validation/test_labels.parquet\")\n",
    "test_labels = test_labels.loc[test_labels[\"type\"] == t]\n",
    "test_labels = test_labels.merge(sub, how=\"left\", on=[\"session\"])\n",
    "test_labels.shape"
   ]
  },
  {
   "cell_type": "code",
   "execution_count": 13,
   "id": "6b75b967-71b0-4f78-8ede-bad1506d2cc8",
   "metadata": {},
   "outputs": [
    {
     "data": {
      "text/plain": [
       "(3735, 4)"
      ]
     },
     "execution_count": 13,
     "metadata": {},
     "output_type": "execute_result"
    }
   ],
   "source": [
    "test_labels = test_labels[test_labels[\"aid\"].notnull()]\n",
    "test_labels.shape"
   ]
  },
  {
   "cell_type": "code",
   "execution_count": 14,
   "id": "d653c647-521b-422d-bbfb-2c9e26effa4e",
   "metadata": {},
   "outputs": [
    {
     "name": "stderr",
     "output_type": "stream",
     "text": [
      "/tmp/ipykernel_52/3580014307.py:1: SettingWithCopyWarning: \n",
      "A value is trying to be set on a copy of a slice from a DataFrame.\n",
      "Try using .loc[row_indexer,col_indexer] = value instead\n",
      "\n",
      "See the caveats in the documentation: https://pandas.pydata.org/pandas-docs/stable/user_guide/indexing.html#returning-a-view-versus-a-copy\n",
      "  test_labels[\"hits\"] = test_labels.apply(lambda df: len(set(df[\"ground_truth\"]).intersection(set(df[\"aid\"]))), axis=1)\n"
     ]
    }
   ],
   "source": [
    "test_labels[\"hits\"] = test_labels.apply(lambda df: len(set(df[\"ground_truth\"]).intersection(set(df[\"aid\"]))), axis=1)"
   ]
  },
  {
   "cell_type": "code",
   "execution_count": 16,
   "id": "df2639a3-09bb-4834-bc85-36675f04466a",
   "metadata": {},
   "outputs": [],
   "source": [
    "test_labels = pd.read_parquet(\"./input/otto-validation/test_labels.parquet\")\n",
    "test_labels = test_labels.loc[test_labels[\"type\"] == t]\n",
    "test_labels = test_labels.merge(sub, how=\"left\", on=[\"session\"])"
   ]
  },
  {
   "cell_type": "code",
   "execution_count": 17,
   "id": "c231e459-c464-4f37-ac98-855949f55ce8",
   "metadata": {},
   "outputs": [
    {
     "data": {
      "text/plain": [
       "(1755534, 4)"
      ]
     },
     "execution_count": 17,
     "metadata": {},
     "output_type": "execute_result"
    }
   ],
   "source": [
    "test_labels.shape"
   ]
  },
  {
   "cell_type": "code",
   "execution_count": 46,
   "id": "05ac03b3-9bda-4ae6-837f-aa356f6ba9ba",
   "metadata": {},
   "outputs": [
    {
     "data": {
      "text/plain": [
       "True"
      ]
     },
     "execution_count": 46,
     "metadata": {},
     "output_type": "execute_result"
    }
   ],
   "source": [
    "type(test_labels.loc[0][\"aid\"]) == list"
   ]
  },
  {
   "cell_type": "code",
   "execution_count": 47,
   "id": "6708fc9c-9444-4ef3-8772-18a4cd654f60",
   "metadata": {},
   "outputs": [],
   "source": [
    "def calc_hits(x):\n",
    "    if type(x[\"aid\"]) != list:\n",
    "        return 0\n",
    "    else:\n",
    "        return len(set(x[\"ground_truth\"]).intersection(set(x[\"aid\"])))"
   ]
  },
  {
   "cell_type": "code",
   "execution_count": 48,
   "id": "c4e323bd-e903-4a29-bb56-9a4c90ff3d3f",
   "metadata": {},
   "outputs": [],
   "source": [
    "test_labels[\"hits\"] = test_labels.apply(lambda df: calc_hits(df), axis=1)"
   ]
  },
  {
   "cell_type": "code",
   "execution_count": 49,
   "id": "b7238ed7-7f4a-48aa-828d-86dbdf079373",
   "metadata": {},
   "outputs": [],
   "source": [
    "test_labels[\"gt_count\"] = test_labels.ground_truth.str.len().clip(0, 20)\n",
    "test_labels[\"recall\"] = test_labels[\"hits\"] / test_labels[\"gt_count\"]\n",
    "recall = test_labels[\"hits\"].sum() / test_labels[\"gt_count\"].sum()"
   ]
  },
  {
   "cell_type": "code",
   "execution_count": 50,
   "id": "3f880156-1061-4963-9b9b-87a7d1c1bd7d",
   "metadata": {},
   "outputs": [
    {
     "data": {
      "text/plain": [
       "0.0009797588653936637"
      ]
     },
     "execution_count": 50,
     "metadata": {},
     "output_type": "execute_result"
    }
   ],
   "source": [
    "recall"
   ]
  }
 ],
 "metadata": {
  "kernelspec": {
   "display_name": "Python 3 (ipykernel)",
   "language": "python",
   "name": "python3"
  },
  "language_info": {
   "codemirror_mode": {
    "name": "ipython",
    "version": 3
   },
   "file_extension": ".py",
   "mimetype": "text/x-python",
   "name": "python",
   "nbconvert_exporter": "python",
   "pygments_lexer": "ipython3",
   "version": "3.9.12"
  }
 },
 "nbformat": 4,
 "nbformat_minor": 5
}
