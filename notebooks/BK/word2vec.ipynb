{
 "cells": [
  {
   "cell_type": "code",
   "execution_count": 1,
   "id": "82cf5943-8fd0-4390-883c-c734df8a22d8",
   "metadata": {},
   "outputs": [],
   "source": [
    "from collections import defaultdict\n",
    "\n",
    "import numpy as np\n",
    "import pandas as pd\n",
    "import polars as pl\n",
    "from annoy import AnnoyIndex\n",
    "from gensim.models import Word2Vec"
   ]
  },
  {
   "cell_type": "code",
   "execution_count": 2,
   "id": "e17dec65-acb7-42bc-b489-92a042b776fc",
   "metadata": {},
   "outputs": [],
   "source": [
    "train = pl.read_parquet(\"../input/otto-full-optimized-memory-footprint/train.parquet\")\n",
    "test = pl.read_parquet(\"../input/otto-full-optimized-memory-footprint/test.parquet\")"
   ]
  },
  {
   "cell_type": "code",
   "execution_count": 6,
   "id": "890d9b87-0bb2-4e83-baf3-68368f74005e",
   "metadata": {},
   "outputs": [
    {
     "data": {
      "text/html": [
       "<div>\n",
       "<style scoped>\n",
       "    .dataframe tbody tr th:only-of-type {\n",
       "        vertical-align: middle;\n",
       "    }\n",
       "\n",
       "    .dataframe tbody tr th {\n",
       "        vertical-align: top;\n",
       "    }\n",
       "\n",
       "    .dataframe thead th {\n",
       "        text-align: right;\n",
       "    }\n",
       "\n",
       "    .dataframe td {\n",
       "        white-space: pre;\n",
       "    }\n",
       "\n",
       "    .dataframe td {\n",
       "        padding-top: 0;\n",
       "    }\n",
       "\n",
       "    .dataframe td {\n",
       "        padding-bottom: 0;\n",
       "    }\n",
       "\n",
       "    .dataframe td {\n",
       "        line-height: 95%;\n",
       "    }\n",
       "</style>\n",
       "<table border=\"1\" class=\"dataframe\" >\n",
       "<small>shape: (5, 4)</small>\n",
       "<thead>\n",
       "<tr>\n",
       "<th>\n",
       "session\n",
       "</th>\n",
       "<th>\n",
       "aid\n",
       "</th>\n",
       "<th>\n",
       "ts\n",
       "</th>\n",
       "<th>\n",
       "type\n",
       "</th>\n",
       "</tr>\n",
       "<tr>\n",
       "<td>\n",
       "i32\n",
       "</td>\n",
       "<td>\n",
       "i32\n",
       "</td>\n",
       "<td>\n",
       "i32\n",
       "</td>\n",
       "<td>\n",
       "u8\n",
       "</td>\n",
       "</tr>\n",
       "</thead>\n",
       "<tbody>\n",
       "<tr>\n",
       "<td>\n",
       "0\n",
       "</td>\n",
       "<td>\n",
       "1517085\n",
       "</td>\n",
       "<td>\n",
       "1659304800\n",
       "</td>\n",
       "<td>\n",
       "0\n",
       "</td>\n",
       "</tr>\n",
       "<tr>\n",
       "<td>\n",
       "0\n",
       "</td>\n",
       "<td>\n",
       "1563459\n",
       "</td>\n",
       "<td>\n",
       "1659304904\n",
       "</td>\n",
       "<td>\n",
       "0\n",
       "</td>\n",
       "</tr>\n",
       "<tr>\n",
       "<td>\n",
       "0\n",
       "</td>\n",
       "<td>\n",
       "1309446\n",
       "</td>\n",
       "<td>\n",
       "1659367439\n",
       "</td>\n",
       "<td>\n",
       "0\n",
       "</td>\n",
       "</tr>\n",
       "<tr>\n",
       "<td>\n",
       "0\n",
       "</td>\n",
       "<td>\n",
       "16246\n",
       "</td>\n",
       "<td>\n",
       "1659367719\n",
       "</td>\n",
       "<td>\n",
       "0\n",
       "</td>\n",
       "</tr>\n",
       "<tr>\n",
       "<td>\n",
       "0\n",
       "</td>\n",
       "<td>\n",
       "1781822\n",
       "</td>\n",
       "<td>\n",
       "1659367871\n",
       "</td>\n",
       "<td>\n",
       "0\n",
       "</td>\n",
       "</tr>\n",
       "</tbody>\n",
       "</table>\n",
       "</div>"
      ],
      "text/plain": [
       "shape: (5, 4)\n",
       "┌─────────┬─────────┬────────────┬──────┐\n",
       "│ session ┆ aid     ┆ ts         ┆ type │\n",
       "│ ---     ┆ ---     ┆ ---        ┆ ---  │\n",
       "│ i32     ┆ i32     ┆ i32        ┆ u8   │\n",
       "╞═════════╪═════════╪════════════╪══════╡\n",
       "│ 0       ┆ 1517085 ┆ 1659304800 ┆ 0    │\n",
       "├╌╌╌╌╌╌╌╌╌┼╌╌╌╌╌╌╌╌╌┼╌╌╌╌╌╌╌╌╌╌╌╌┼╌╌╌╌╌╌┤\n",
       "│ 0       ┆ 1563459 ┆ 1659304904 ┆ 0    │\n",
       "├╌╌╌╌╌╌╌╌╌┼╌╌╌╌╌╌╌╌╌┼╌╌╌╌╌╌╌╌╌╌╌╌┼╌╌╌╌╌╌┤\n",
       "│ 0       ┆ 1309446 ┆ 1659367439 ┆ 0    │\n",
       "├╌╌╌╌╌╌╌╌╌┼╌╌╌╌╌╌╌╌╌┼╌╌╌╌╌╌╌╌╌╌╌╌┼╌╌╌╌╌╌┤\n",
       "│ 0       ┆ 16246   ┆ 1659367719 ┆ 0    │\n",
       "├╌╌╌╌╌╌╌╌╌┼╌╌╌╌╌╌╌╌╌┼╌╌╌╌╌╌╌╌╌╌╌╌┼╌╌╌╌╌╌┤\n",
       "│ 0       ┆ 1781822 ┆ 1659367871 ┆ 0    │\n",
       "└─────────┴─────────┴────────────┴──────┘"
      ]
     },
     "execution_count": 6,
     "metadata": {},
     "output_type": "execute_result"
    }
   ],
   "source": [
    "train.head()"
   ]
  },
  {
   "cell_type": "code",
   "execution_count": 3,
   "id": "e321333b-5eb5-4980-a212-81e30b1f35f4",
   "metadata": {},
   "outputs": [],
   "source": [
    "sentences_df = pl.concat([train, test]).groupby(\"session\").agg(pl.col(\"aid\").alias(\"sentence\"))"
   ]
  },
  {
   "cell_type": "code",
   "execution_count": 5,
   "id": "5ebdd9cb-af39-4b49-81c7-bc61aa4eb690",
   "metadata": {},
   "outputs": [
    {
     "data": {
      "text/html": [
       "<div>\n",
       "<style scoped>\n",
       "    .dataframe tbody tr th:only-of-type {\n",
       "        vertical-align: middle;\n",
       "    }\n",
       "\n",
       "    .dataframe tbody tr th {\n",
       "        vertical-align: top;\n",
       "    }\n",
       "\n",
       "    .dataframe thead th {\n",
       "        text-align: right;\n",
       "    }\n",
       "\n",
       "    .dataframe td {\n",
       "        white-space: pre;\n",
       "    }\n",
       "\n",
       "    .dataframe td {\n",
       "        padding-top: 0;\n",
       "    }\n",
       "\n",
       "    .dataframe td {\n",
       "        padding-bottom: 0;\n",
       "    }\n",
       "\n",
       "    .dataframe td {\n",
       "        line-height: 95%;\n",
       "    }\n",
       "</style>\n",
       "<table border=\"1\" class=\"dataframe\" >\n",
       "<small>shape: (5, 2)</small>\n",
       "<thead>\n",
       "<tr>\n",
       "<th>\n",
       "session\n",
       "</th>\n",
       "<th>\n",
       "sentence\n",
       "</th>\n",
       "</tr>\n",
       "<tr>\n",
       "<td>\n",
       "i32\n",
       "</td>\n",
       "<td>\n",
       "list[i32]\n",
       "</td>\n",
       "</tr>\n",
       "</thead>\n",
       "<tbody>\n",
       "<tr>\n",
       "<td>\n",
       "66848\n",
       "</td>\n",
       "<td>\n",
       "[1188193, 203819, 886392]\n",
       "</td>\n",
       "</tr>\n",
       "<tr>\n",
       "<td>\n",
       "13353536\n",
       "</td>\n",
       "<td>\n",
       "[423010]\n",
       "</td>\n",
       "</tr>\n",
       "<tr>\n",
       "<td>\n",
       "229984\n",
       "</td>\n",
       "<td>\n",
       "[244251, 1848423, ... 851141]\n",
       "</td>\n",
       "</tr>\n",
       "<tr>\n",
       "<td>\n",
       "1781184\n",
       "</td>\n",
       "<td>\n",
       "[623372, 715280, ... 12618]\n",
       "</td>\n",
       "</tr>\n",
       "<tr>\n",
       "<td>\n",
       "2324416\n",
       "</td>\n",
       "<td>\n",
       "[1853174, 185695, ... 1133767]\n",
       "</td>\n",
       "</tr>\n",
       "</tbody>\n",
       "</table>\n",
       "</div>"
      ],
      "text/plain": [
       "shape: (5, 2)\n",
       "┌──────────┬────────────────────────────────┐\n",
       "│ session  ┆ sentence                       │\n",
       "│ ---      ┆ ---                            │\n",
       "│ i32      ┆ list[i32]                      │\n",
       "╞══════════╪════════════════════════════════╡\n",
       "│ 66848    ┆ [1188193, 203819, 886392]      │\n",
       "├╌╌╌╌╌╌╌╌╌╌┼╌╌╌╌╌╌╌╌╌╌╌╌╌╌╌╌╌╌╌╌╌╌╌╌╌╌╌╌╌╌╌╌┤\n",
       "│ 13353536 ┆ [423010]                       │\n",
       "├╌╌╌╌╌╌╌╌╌╌┼╌╌╌╌╌╌╌╌╌╌╌╌╌╌╌╌╌╌╌╌╌╌╌╌╌╌╌╌╌╌╌╌┤\n",
       "│ 229984   ┆ [244251, 1848423, ... 851141]  │\n",
       "├╌╌╌╌╌╌╌╌╌╌┼╌╌╌╌╌╌╌╌╌╌╌╌╌╌╌╌╌╌╌╌╌╌╌╌╌╌╌╌╌╌╌╌┤\n",
       "│ 1781184  ┆ [623372, 715280, ... 12618]    │\n",
       "├╌╌╌╌╌╌╌╌╌╌┼╌╌╌╌╌╌╌╌╌╌╌╌╌╌╌╌╌╌╌╌╌╌╌╌╌╌╌╌╌╌╌╌┤\n",
       "│ 2324416  ┆ [1853174, 185695, ... 1133767] │\n",
       "└──────────┴────────────────────────────────┘"
      ]
     },
     "execution_count": 5,
     "metadata": {},
     "output_type": "execute_result"
    }
   ],
   "source": [
    "sentences_df.head()"
   ]
  },
  {
   "cell_type": "code",
   "execution_count": 7,
   "id": "d484fee0-53d2-4b93-a1a8-e3b34074292c",
   "metadata": {},
   "outputs": [],
   "source": [
    "sentences = sentences_df[\"sentence\"].to_list()"
   ]
  },
  {
   "cell_type": "code",
   "execution_count": 9,
   "id": "1749e42e-4029-40ac-80e8-ae403cb276c5",
   "metadata": {},
   "outputs": [],
   "source": [
    "w2vec = Word2Vec(sentences=sentences, vector_size=32, min_count=1, workers=4)"
   ]
  },
  {
   "cell_type": "code",
   "execution_count": 13,
   "id": "12afe0e7-6b53-48f3-8544-f7667bf4e460",
   "metadata": {},
   "outputs": [
    {
     "data": {
      "text/plain": [
       "[1460571, 485256, 108125]"
      ]
     },
     "execution_count": 13,
     "metadata": {},
     "output_type": "execute_result"
    }
   ],
   "source": [
    "w2vec.wv.index_to_key[:3]"
   ]
  },
  {
   "cell_type": "code",
   "execution_count": 14,
   "id": "4282620a-06e2-4950-beed-d828097b5b5a",
   "metadata": {},
   "outputs": [],
   "source": [
    "aid2idx = {aid: i for i, aid in enumerate(w2vec.wv.index_to_key)}"
   ]
  },
  {
   "cell_type": "code",
   "execution_count": 21,
   "id": "947764f0-ed5d-4013-aafe-37fb035fbfd8",
   "metadata": {},
   "outputs": [],
   "source": [
    "index = AnnoyIndex(32, \"euclidean\")"
   ]
  },
  {
   "cell_type": "code",
   "execution_count": 22,
   "id": "a5515b37-3b1d-4fbb-8647-2cc44c592ffc",
   "metadata": {},
   "outputs": [],
   "source": [
    "for aid, idx in aid2idx.items():\n",
    "    index.add_item(idx, w2vec.wv.vectors[idx])"
   ]
  },
  {
   "cell_type": "code",
   "execution_count": 23,
   "id": "6b38fcc0-c857-4941-92b5-8f6cf8e83172",
   "metadata": {},
   "outputs": [
    {
     "data": {
      "text/plain": [
       "True"
      ]
     },
     "execution_count": 23,
     "metadata": {},
     "output_type": "execute_result"
    }
   ],
   "source": [
    "index.build(10)"
   ]
  },
  {
   "cell_type": "code",
   "execution_count": 24,
   "id": "fdd773e5-2e5c-402d-aa8b-827a1f8c5426",
   "metadata": {},
   "outputs": [],
   "source": [
    "session_types = [\"clicks\", \"carts\", \"orders\"]\n",
    "test_session_AIDs = test.to_pandas().reset_index(drop=True).groupby(\"session\")[\"aid\"].apply(list)\n",
    "test_session_types = test.to_pandas().reset_index(drop=True).groupby(\"session\")[\"type\"].apply(list)"
   ]
  },
  {
   "cell_type": "code",
   "execution_count": 27,
   "id": "d91c4501-1045-47f8-b9f7-85698bc34b10",
   "metadata": {},
   "outputs": [
    {
     "data": {
      "text/plain": [
       "session\n",
       "12899779                                              [59625]\n",
       "12899780           [1142000, 582732, 973453, 736515, 1142000]\n",
       "12899781    [141736, 199008, 57315, 194067, 199008, 199008...\n",
       "12899782    [1669402, 1494780, 1494780, 1494780, 1494780, ...\n",
       "12899783    [255297, 1114789, 255297, 300127, 198385, 3001...\n",
       "Name: aid, dtype: object"
      ]
     },
     "execution_count": 27,
     "metadata": {},
     "output_type": "execute_result"
    }
   ],
   "source": [
    "test_session_AIDs.head()"
   ]
  },
  {
   "cell_type": "code",
   "execution_count": 28,
   "id": "0abc09e3-a108-4f23-9eb6-aa7b11bbbc60",
   "metadata": {},
   "outputs": [
    {
     "data": {
      "text/plain": [
       "session\n",
       "12899779                                                  [0]\n",
       "12899780                                      [0, 0, 0, 0, 0]\n",
       "12899781                    [0, 0, 0, 0, 0, 0, 1, 0, 0, 0, 0]\n",
       "12899782    [0, 0, 0, 0, 1, 0, 0, 0, 0, 0, 0, 1, 0, 0, 0, ...\n",
       "12899783                    [0, 0, 0, 0, 0, 0, 0, 0, 0, 0, 0]\n",
       "Name: type, dtype: object"
      ]
     },
     "execution_count": 28,
     "metadata": {},
     "output_type": "execute_result"
    }
   ],
   "source": [
    "test_session_types.head()"
   ]
  },
  {
   "cell_type": "code",
   "execution_count": null,
   "id": "5a78096c-5248-4bfc-a458-17b6a38fcad7",
   "metadata": {},
   "outputs": [],
   "source": [
    "labels = []\n",
    "type_weight_multipliers = {0: 1, 1: 6, 2: 3}\n",
    "for AIDs, types in zip(test_session_AIDs, test_session_types):\n",
    "    if len(AIDs) >= 20:\n",
    "        # if we have enough aids (over equals 20) we don't need to look for candidates! we just use the old logic\n",
    "        weights = np.logspace(0.1, 1, len(AIDs), base=2, endpoint=True) - 1\n",
    "        aids_temp = defaultdict(lambda: 0)\n",
    "        for aid, w, t in zip(AIDs, weights, types):\n",
    "            aids_temp[aid] += w * type_weight_multipliers[t]\n",
    "        sorted_aids = [k for k, v in sorted(aids_temp.items(), key=lambda item: -item[1])]\n",
    "        labels.append(sorted_aids[:20])\n",
    "    else:\n",
    "        # here we don't have 20 aids to output -- we will use word2vec embeddings to generate candidates!\n",
    "        AIDs = list(dict.fromkeys(AIDs[::-1]))\n",
    "        # let's grab the most recent aid\n",
    "        most_recent_aid = AIDs[0]\n",
    "        # and look for some neighbors!\n",
    "        nns = [w2vec.wv.index_to_key[i] for i in index.get_nns_by_item(aid2idx[most_recent_aid], 21)[1:]]\n",
    "        labels.append((AIDs + nns)[:20])\n",
    "labels_as_strings = [\" \".join([str(l) for l in lls]) for lls in labels]\n",
    "predictions = pd.DataFrame(data={\"session_type\": test_session_AIDs.index, \"labels\": labels_as_strings})\n",
    "prediction_dfs = []\n",
    "for st in session_types:\n",
    "    modified_predictions = predictions.copy()\n",
    "    modified_predictions.session_type = modified_predictions.session_type.astype(\"str\") + f\"_{st}\"\n",
    "    prediction_dfs.append(modified_predictions)\n",
    "submission = pd.concat(prediction_dfs).reset_index(drop=True)\n",
    "submission.to_csv(\"submission.csv\", index=False)"
   ]
  },
  {
   "cell_type": "code",
   "execution_count": 45,
   "id": "622a24a8-7e00-4dfe-a202-73d68f6ab8fe",
   "metadata": {},
   "outputs": [
    {
     "data": {
      "text/plain": [
       "1142000"
      ]
     },
     "execution_count": 45,
     "metadata": {},
     "output_type": "execute_result"
    }
   ],
   "source": [
    "AIDs = test_session_AIDs.iloc[1]\n",
    "types = test_session_types.iloc[1]\n",
    "AIDs = list(dict.fromkeys(AIDs[::-1]))\n",
    "most_recent_aid = AIDs[0]\n",
    "most_recent_aid"
   ]
  },
  {
   "cell_type": "code",
   "execution_count": 46,
   "id": "e9219c0b-ec9e-47ba-b498-33685e827401",
   "metadata": {},
   "outputs": [],
   "source": [
    "hoge = index.get_nns_by_item(aid2idx[most_recent_aid], 21)"
   ]
  },
  {
   "cell_type": "code",
   "execution_count": 48,
   "id": "0193f510-413e-4933-9956-48f3ececf502",
   "metadata": {},
   "outputs": [
    {
     "data": {
      "text/html": [
       "<div>\n",
       "<style scoped>\n",
       "    .dataframe tbody tr th:only-of-type {\n",
       "        vertical-align: middle;\n",
       "    }\n",
       "\n",
       "    .dataframe tbody tr th {\n",
       "        vertical-align: top;\n",
       "    }\n",
       "\n",
       "    .dataframe thead th {\n",
       "        text-align: right;\n",
       "    }\n",
       "\n",
       "    .dataframe td {\n",
       "        white-space: pre;\n",
       "    }\n",
       "\n",
       "    .dataframe td {\n",
       "        padding-top: 0;\n",
       "    }\n",
       "\n",
       "    .dataframe td {\n",
       "        padding-bottom: 0;\n",
       "    }\n",
       "\n",
       "    .dataframe td {\n",
       "        line-height: 95%;\n",
       "    }\n",
       "</style>\n",
       "<table border=\"1\" class=\"dataframe\" >\n",
       "<small>shape: (5, 4)</small>\n",
       "<thead>\n",
       "<tr>\n",
       "<th>\n",
       "session\n",
       "</th>\n",
       "<th>\n",
       "aid\n",
       "</th>\n",
       "<th>\n",
       "ts\n",
       "</th>\n",
       "<th>\n",
       "type\n",
       "</th>\n",
       "</tr>\n",
       "<tr>\n",
       "<td>\n",
       "i32\n",
       "</td>\n",
       "<td>\n",
       "i32\n",
       "</td>\n",
       "<td>\n",
       "i32\n",
       "</td>\n",
       "<td>\n",
       "u8\n",
       "</td>\n",
       "</tr>\n",
       "</thead>\n",
       "<tbody>\n",
       "<tr>\n",
       "<td>\n",
       "0\n",
       "</td>\n",
       "<td>\n",
       "1517085\n",
       "</td>\n",
       "<td>\n",
       "1659304800\n",
       "</td>\n",
       "<td>\n",
       "0\n",
       "</td>\n",
       "</tr>\n",
       "<tr>\n",
       "<td>\n",
       "0\n",
       "</td>\n",
       "<td>\n",
       "1563459\n",
       "</td>\n",
       "<td>\n",
       "1659304904\n",
       "</td>\n",
       "<td>\n",
       "0\n",
       "</td>\n",
       "</tr>\n",
       "<tr>\n",
       "<td>\n",
       "0\n",
       "</td>\n",
       "<td>\n",
       "1309446\n",
       "</td>\n",
       "<td>\n",
       "1659367439\n",
       "</td>\n",
       "<td>\n",
       "0\n",
       "</td>\n",
       "</tr>\n",
       "<tr>\n",
       "<td>\n",
       "0\n",
       "</td>\n",
       "<td>\n",
       "16246\n",
       "</td>\n",
       "<td>\n",
       "1659367719\n",
       "</td>\n",
       "<td>\n",
       "0\n",
       "</td>\n",
       "</tr>\n",
       "<tr>\n",
       "<td>\n",
       "0\n",
       "</td>\n",
       "<td>\n",
       "1781822\n",
       "</td>\n",
       "<td>\n",
       "1659367871\n",
       "</td>\n",
       "<td>\n",
       "0\n",
       "</td>\n",
       "</tr>\n",
       "</tbody>\n",
       "</table>\n",
       "</div>"
      ],
      "text/plain": [
       "shape: (5, 4)\n",
       "┌─────────┬─────────┬────────────┬──────┐\n",
       "│ session ┆ aid     ┆ ts         ┆ type │\n",
       "│ ---     ┆ ---     ┆ ---        ┆ ---  │\n",
       "│ i32     ┆ i32     ┆ i32        ┆ u8   │\n",
       "╞═════════╪═════════╪════════════╪══════╡\n",
       "│ 0       ┆ 1517085 ┆ 1659304800 ┆ 0    │\n",
       "├╌╌╌╌╌╌╌╌╌┼╌╌╌╌╌╌╌╌╌┼╌╌╌╌╌╌╌╌╌╌╌╌┼╌╌╌╌╌╌┤\n",
       "│ 0       ┆ 1563459 ┆ 1659304904 ┆ 0    │\n",
       "├╌╌╌╌╌╌╌╌╌┼╌╌╌╌╌╌╌╌╌┼╌╌╌╌╌╌╌╌╌╌╌╌┼╌╌╌╌╌╌┤\n",
       "│ 0       ┆ 1309446 ┆ 1659367439 ┆ 0    │\n",
       "├╌╌╌╌╌╌╌╌╌┼╌╌╌╌╌╌╌╌╌┼╌╌╌╌╌╌╌╌╌╌╌╌┼╌╌╌╌╌╌┤\n",
       "│ 0       ┆ 16246   ┆ 1659367719 ┆ 0    │\n",
       "├╌╌╌╌╌╌╌╌╌┼╌╌╌╌╌╌╌╌╌┼╌╌╌╌╌╌╌╌╌╌╌╌┼╌╌╌╌╌╌┤\n",
       "│ 0       ┆ 1781822 ┆ 1659367871 ┆ 0    │\n",
       "└─────────┴─────────┴────────────┴──────┘"
      ]
     },
     "execution_count": 48,
     "metadata": {},
     "output_type": "execute_result"
    }
   ],
   "source": [
    "train.head()"
   ]
  }
 ],
 "metadata": {
  "kernelspec": {
   "display_name": "Python 3 (ipykernel)",
   "language": "python",
   "name": "python3"
  },
  "language_info": {
   "codemirror_mode": {
    "name": "ipython",
    "version": 3
   },
   "file_extension": ".py",
   "mimetype": "text/x-python",
   "name": "python",
   "nbconvert_exporter": "python",
   "pygments_lexer": "ipython3",
   "version": "3.9.12"
  }
 },
 "nbformat": 4,
 "nbformat_minor": 5
}
