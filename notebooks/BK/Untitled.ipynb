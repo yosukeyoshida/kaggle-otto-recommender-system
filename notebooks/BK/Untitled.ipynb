{
 "cells": [
  {
   "cell_type": "code",
   "execution_count": 1,
   "id": "5701ffdd-4696-4357-adb6-b5bfe5e37841",
   "metadata": {},
   "outputs": [],
   "source": [
    "import os\n",
    "import pickle\n",
    "import pandas as pd\n",
    "import glob\n",
    "import cudf\n",
    "from datetime import datetime\n",
    "import numpy as np\n",
    "pd.options.display.max_rows = 999\n",
    "\n",
    "\n",
    "def read_file(f):\n",
    "    df = cudf.read_parquet(f)\n",
    "    df.ts = (df.ts / 1000).astype(\"int32\")\n",
    "    return df\n",
    "\n",
    "def load_files(file_path):\n",
    "    dfs = []\n",
    "    # file_path = \"./input/otto-validation/test_parquet/*\"\n",
    "    for e, chunk_file in enumerate(glob.glob(file_path)):\n",
    "        chunk = pd.read_parquet(chunk_file)\n",
    "        dfs.append(chunk)\n",
    "    df = pd.concat(dfs).reset_index(drop=True).astype({\"ts\": \"datetime64[ms]\"})\n",
    "    return df"
   ]
  },
  {
   "cell_type": "code",
   "execution_count": 2,
   "id": "85fc9d40-14a4-4a40-8b06-b5db52c5f1bb",
   "metadata": {},
   "outputs": [],
   "source": [
    "train_df = load_files(\"./input/otto-validation/train_parquet/*\")\n",
    "test_df = load_files(\"./input/otto-validation/test_parquet/*\")"
   ]
  },
  {
   "cell_type": "code",
   "execution_count": 3,
   "id": "10046ae1-8b4f-41c9-882c-183d6ec6d5bc",
   "metadata": {},
   "outputs": [
    {
     "name": "stdout",
     "output_type": "stream",
     "text": [
      "(1755534, 10)\n",
      "(306341, 10)\n",
      "(150817, 10)\n"
     ]
    }
   ],
   "source": [
    "click_df = pickle.load(open(\"output/cv/test_labels_clicks.pkl\", \"rb\"))\n",
    "cart_df = pickle.load(open(\"output/cv/test_labels_carts.pkl\", \"rb\"))\n",
    "order_df = pickle.load(open(\"output/cv/test_labels_orders.pkl\", \"rb\"))\n",
    "\n",
    "print(click_df.shape)\n",
    "print(cart_df.shape)\n",
    "print(order_df.shape)"
   ]
  },
  {
   "cell_type": "code",
   "execution_count": 8,
   "id": "3bf84794-a862-4180-a61b-d50ce1e4727f",
   "metadata": {},
   "outputs": [],
   "source": [
    "test_labels = pd.read_parquet(\"./input/otto-validation/test_labels.parquet\")\n",
    "test_labels[\"gt_len\"] = test_labels[\"ground_truth\"].str.len()"
   ]
  },
  {
   "cell_type": "code",
   "execution_count": 9,
   "id": "9c2eaca7-2509-4ffa-b761-56887d4d6bc1",
   "metadata": {},
   "outputs": [],
   "source": [
    "top_clicks = test_df.loc[test_df[\"type\"] == \"clicks\", \"aid\"].value_counts().index.values[:20]\n",
    "top_orders = test_df.loc[test_df[\"type\"] == \"orders\", \"aid\"].value_counts().index.values[:20]"
   ]
  },
  {
   "cell_type": "code",
   "execution_count": 10,
   "id": "3fc1063a-340b-4185-a84c-35b40de27cce",
   "metadata": {},
   "outputs": [
    {
     "data": {
      "text/plain": [
       "0    85085\n",
       "1      768\n",
       "2        1\n",
       "Name: intersection_top_gt_len, dtype: int64"
      ]
     },
     "execution_count": 10,
     "metadata": {},
     "output_type": "execute_result"
    }
   ],
   "source": [
    "cart_df[\"top_len\"] = cart_df[\"top\"].str.len()\n",
    "cart_df[\"intersection_top_gt\"] = cart_df.apply(lambda x: list(set(x[\"ground_truth\"]) & set(x[\"top\"])), axis=1)\n",
    "cart_df[\"intersection_top_gt_len\"] = cart_df[\"intersection_top_gt\"].str.len()\n",
    "cart_df[cart_df[\"top_len\"] > 0][\"intersection_top_gt_len\"].value_counts()"
   ]
  },
  {
   "cell_type": "code",
   "execution_count": 11,
   "id": "41f939b0-de5b-4381-9513-3213a60965c2",
   "metadata": {},
   "outputs": [
    {
     "data": {
      "text/plain": [
       "0    25988\n",
       "1       28\n",
       "Name: intersection_top_gt_len, dtype: int64"
      ]
     },
     "execution_count": 11,
     "metadata": {},
     "output_type": "execute_result"
    }
   ],
   "source": [
    "click_df[\"top_len\"] = click_df[\"top\"].str.len()\n",
    "click_df[\"intersection_top_gt\"] = click_df.apply(lambda x: list(set(x[\"ground_truth\"]) & set(x[\"top\"])), axis=1)\n",
    "click_df[\"intersection_top_gt_len\"] = click_df[\"intersection_top_gt\"].str.len()\n",
    "click_df[click_df[\"top_len\"] > 0][\"intersection_top_gt_len\"].value_counts()"
   ]
  },
  {
   "cell_type": "code",
   "execution_count": 12,
   "id": "91e0e053-05b6-4eab-9d86-8478d63f9b5c",
   "metadata": {},
   "outputs": [
    {
     "data": {
      "text/plain": [
       "0    28299\n",
       "1      289\n",
       "Name: intersection_top_gt_len, dtype: int64"
      ]
     },
     "execution_count": 12,
     "metadata": {},
     "output_type": "execute_result"
    }
   ],
   "source": [
    "order_df[\"top_len\"] = order_df[\"top\"].str.len()\n",
    "order_df[\"intersection_top_gt\"] = order_df.apply(lambda x: list(set(x[\"ground_truth\"]) & set(x[\"top\"])), axis=1)\n",
    "order_df[\"intersection_top_gt_len\"] = order_df[\"intersection_top_gt\"].str.len()\n",
    "order_df[order_df[\"top_len\"] > 0][\"intersection_top_gt_len\"].value_counts()"
   ]
  },
  {
   "cell_type": "code",
   "execution_count": 13,
   "id": "446fa05c-7d26-4e39-a1fe-f680a5bd4010",
   "metadata": {},
   "outputs": [
    {
     "data": {
      "text/html": [
       "<div>\n",
       "<style scoped>\n",
       "    .dataframe tbody tr th:only-of-type {\n",
       "        vertical-align: middle;\n",
       "    }\n",
       "\n",
       "    .dataframe tbody tr th {\n",
       "        vertical-align: top;\n",
       "    }\n",
       "\n",
       "    .dataframe thead th {\n",
       "        text-align: right;\n",
       "    }\n",
       "</style>\n",
       "<table border=\"1\" class=\"dataframe\">\n",
       "  <thead>\n",
       "    <tr style=\"text-align: right;\">\n",
       "      <th></th>\n",
       "      <th>session</th>\n",
       "      <th>type</th>\n",
       "      <th>ground_truth</th>\n",
       "      <th>session_type</th>\n",
       "      <th>top_n</th>\n",
       "      <th>top</th>\n",
       "      <th>labels</th>\n",
       "      <th>hits</th>\n",
       "      <th>gt_count</th>\n",
       "      <th>recall</th>\n",
       "      <th>top_len</th>\n",
       "      <th>intersection_top_gt</th>\n",
       "      <th>intersection_top_gt_len</th>\n",
       "    </tr>\n",
       "  </thead>\n",
       "  <tbody>\n",
       "    <tr>\n",
       "      <th>0</th>\n",
       "      <td>11098528</td>\n",
       "      <td>carts</td>\n",
       "      <td>[1199737]</td>\n",
       "      <td>11098528_carts</td>\n",
       "      <td>[11830, 1732105, 588923, 884502, 876129, 11578...</td>\n",
       "      <td>[876493, 1406660, 1236775, 166037]</td>\n",
       "      <td>[11830, 1732105, 588923, 884502, 876129, 11578...</td>\n",
       "      <td>0</td>\n",
       "      <td>1</td>\n",
       "      <td>0.0</td>\n",
       "      <td>4</td>\n",
       "      <td>[]</td>\n",
       "      <td>0</td>\n",
       "    </tr>\n",
       "    <tr>\n",
       "      <th>11</th>\n",
       "      <td>11098555</td>\n",
       "      <td>carts</td>\n",
       "      <td>[1849620]</td>\n",
       "      <td>11098555_carts</td>\n",
       "      <td>[1849620, 205767, 161054, 1699061, 66403, 3297...</td>\n",
       "      <td>[876493, 1406660, 1236775, 166037]</td>\n",
       "      <td>[1849620, 205767, 161054, 1699061, 66403, 3297...</td>\n",
       "      <td>1</td>\n",
       "      <td>1</td>\n",
       "      <td>1.0</td>\n",
       "      <td>4</td>\n",
       "      <td>[]</td>\n",
       "      <td>0</td>\n",
       "    </tr>\n",
       "    <tr>\n",
       "      <th>17</th>\n",
       "      <td>11098568</td>\n",
       "      <td>carts</td>\n",
       "      <td>[751895]</td>\n",
       "      <td>11098568_carts</td>\n",
       "      <td>[1808304, 519330, 1399038, 308483, 1619978, 10...</td>\n",
       "      <td>[876493, 1406660, 1236775, 166037]</td>\n",
       "      <td>[1808304, 519330, 1399038, 308483, 1619978, 10...</td>\n",
       "      <td>1</td>\n",
       "      <td>1</td>\n",
       "      <td>1.0</td>\n",
       "      <td>4</td>\n",
       "      <td>[]</td>\n",
       "      <td>0</td>\n",
       "    </tr>\n",
       "    <tr>\n",
       "      <th>22</th>\n",
       "      <td>11098580</td>\n",
       "      <td>carts</td>\n",
       "      <td>[906875]</td>\n",
       "      <td>11098580_carts</td>\n",
       "      <td>[255676, 126566, 550852, 1142902, 216819, 1219...</td>\n",
       "      <td>[876493, 1406660, 1236775, 166037]</td>\n",
       "      <td>[255676, 126566, 550852, 1142902, 216819, 1219...</td>\n",
       "      <td>0</td>\n",
       "      <td>1</td>\n",
       "      <td>0.0</td>\n",
       "      <td>4</td>\n",
       "      <td>[]</td>\n",
       "      <td>0</td>\n",
       "    </tr>\n",
       "    <tr>\n",
       "      <th>33</th>\n",
       "      <td>11098606</td>\n",
       "      <td>carts</td>\n",
       "      <td>[1629491]</td>\n",
       "      <td>11098606_carts</td>\n",
       "      <td>[1216616, 385065, 1782099, 184976, 1160293, 11...</td>\n",
       "      <td>[876493, 1406660, 1236775, 166037]</td>\n",
       "      <td>[1216616, 385065, 1782099, 184976, 1160293, 11...</td>\n",
       "      <td>0</td>\n",
       "      <td>1</td>\n",
       "      <td>0.0</td>\n",
       "      <td>4</td>\n",
       "      <td>[]</td>\n",
       "      <td>0</td>\n",
       "    </tr>\n",
       "  </tbody>\n",
       "</table>\n",
       "</div>"
      ],
      "text/plain": [
       "     session   type ground_truth    session_type  \\\n",
       "0   11098528  carts    [1199737]  11098528_carts   \n",
       "11  11098555  carts    [1849620]  11098555_carts   \n",
       "17  11098568  carts     [751895]  11098568_carts   \n",
       "22  11098580  carts     [906875]  11098580_carts   \n",
       "33  11098606  carts    [1629491]  11098606_carts   \n",
       "\n",
       "                                                top_n  \\\n",
       "0   [11830, 1732105, 588923, 884502, 876129, 11578...   \n",
       "11  [1849620, 205767, 161054, 1699061, 66403, 3297...   \n",
       "17  [1808304, 519330, 1399038, 308483, 1619978, 10...   \n",
       "22  [255676, 126566, 550852, 1142902, 216819, 1219...   \n",
       "33  [1216616, 385065, 1782099, 184976, 1160293, 11...   \n",
       "\n",
       "                                   top  \\\n",
       "0   [876493, 1406660, 1236775, 166037]   \n",
       "11  [876493, 1406660, 1236775, 166037]   \n",
       "17  [876493, 1406660, 1236775, 166037]   \n",
       "22  [876493, 1406660, 1236775, 166037]   \n",
       "33  [876493, 1406660, 1236775, 166037]   \n",
       "\n",
       "                                               labels  hits  gt_count  recall  \\\n",
       "0   [11830, 1732105, 588923, 884502, 876129, 11578...     0         1     0.0   \n",
       "11  [1849620, 205767, 161054, 1699061, 66403, 3297...     1         1     1.0   \n",
       "17  [1808304, 519330, 1399038, 308483, 1619978, 10...     1         1     1.0   \n",
       "22  [255676, 126566, 550852, 1142902, 216819, 1219...     0         1     0.0   \n",
       "33  [1216616, 385065, 1782099, 184976, 1160293, 11...     0         1     0.0   \n",
       "\n",
       "    top_len intersection_top_gt  intersection_top_gt_len  \n",
       "0         4                  []                        0  \n",
       "11        4                  []                        0  \n",
       "17        4                  []                        0  \n",
       "22        4                  []                        0  \n",
       "33        4                  []                        0  "
      ]
     },
     "execution_count": 13,
     "metadata": {},
     "output_type": "execute_result"
    }
   ],
   "source": [
    "cart_df[cart_df[\"top_len\"] > 0].head()"
   ]
  },
  {
   "cell_type": "code",
   "execution_count": 15,
   "id": "c7280b92-7063-448b-ab86-6e3f78ec5535",
   "metadata": {},
   "outputs": [
    {
     "data": {
      "text/plain": [
       "False"
      ]
     },
     "execution_count": 15,
     "metadata": {},
     "output_type": "execute_result"
    }
   ],
   "source": [
    "1199737 in top_orders"
   ]
  },
  {
   "cell_type": "code",
   "execution_count": 16,
   "id": "c2fd638d-02a6-43fb-8291-4c8f286b623e",
   "metadata": {},
   "outputs": [
    {
     "data": {
      "text/plain": [
       "False"
      ]
     },
     "execution_count": 16,
     "metadata": {},
     "output_type": "execute_result"
    }
   ],
   "source": [
    "1199737 in top_clicks"
   ]
  },
  {
   "cell_type": "code",
   "execution_count": 17,
   "id": "7e3eaf62-fc8b-4438-b5bc-75d4b1ff4c8e",
   "metadata": {},
   "outputs": [],
   "source": [
    "top_carts = test_df.loc[test_df[\"type\"] == \"carts\", \"aid\"].value_counts().index.values[:20]"
   ]
  },
  {
   "cell_type": "code",
   "execution_count": 18,
   "id": "92e0add0-9cbe-49e0-826e-08a59f2bd3f3",
   "metadata": {},
   "outputs": [
    {
     "data": {
      "text/plain": [
       "False"
      ]
     },
     "execution_count": 18,
     "metadata": {},
     "output_type": "execute_result"
    }
   ],
   "source": [
    "1199737 in top_carts"
   ]
  },
  {
   "cell_type": "code",
   "execution_count": 26,
   "id": "6ea4454b-7ce4-400a-b1a3-a5af36f0258b",
   "metadata": {},
   "outputs": [],
   "source": [
    "top_orders = train_df.loc[train_df[\"type\"] == \"orders\", \"aid\"].value_counts()[:30]"
   ]
  },
  {
   "cell_type": "code",
   "execution_count": 27,
   "id": "fc5e9b23-0ea4-4c65-a456-49d0412c6f54",
   "metadata": {},
   "outputs": [
    {
     "data": {
      "text/plain": [
       "False"
      ]
     },
     "execution_count": 27,
     "metadata": {},
     "output_type": "execute_result"
    }
   ],
   "source": [
    "1199737 in top_orders"
   ]
  },
  {
   "cell_type": "code",
   "execution_count": null,
   "id": "017641ba-1b04-4073-b8de-91a5a092a703",
   "metadata": {},
   "outputs": [],
   "source": []
  },
  {
   "cell_type": "code",
   "execution_count": null,
   "id": "410cc9bc-1219-450d-a853-6279864ddb85",
   "metadata": {},
   "outputs": [],
   "source": [
    "train_df[train_df[\"session\"] == 11098528]"
   ]
  },
  {
   "cell_type": "code",
   "execution_count": null,
   "id": "3cc2c69f-45c5-4d7c-9ab1-9de5de608163",
   "metadata": {},
   "outputs": [],
   "source": [
    "test_df[test_df[\"session\"] == 11098528]"
   ]
  },
  {
   "cell_type": "code",
   "execution_count": null,
   "id": "3dbafade-6e25-466a-a52c-dd92e6ac65cf",
   "metadata": {},
   "outputs": [],
   "source": [
    "test_labels[test_labels[\"session\"] == 11098528]"
   ]
  },
  {
   "cell_type": "code",
   "execution_count": null,
   "id": "cab19d37-31b3-41f3-924b-b8bf6ac8275a",
   "metadata": {},
   "outputs": [],
   "source": [
    "click_df[click_df[\"session\"] == 11098528]"
   ]
  },
  {
   "cell_type": "code",
   "execution_count": null,
   "id": "fde0a60c-f71c-45b7-be84-e55503acf193",
   "metadata": {},
   "outputs": [],
   "source": [
    "top_orders"
   ]
  },
  {
   "cell_type": "code",
   "execution_count": null,
   "id": "defb6074-c8ad-47ff-abdc-5b1917a89e8e",
   "metadata": {},
   "outputs": [],
   "source": [
    "# file_path = \"./input/otto-chunk-data-inparquet-format/*_parquet/*\"\n",
    "file_path = \"./input/otto-validation/*_parquet/*\"\n",
    "all_df = load_files(file_path)"
   ]
  },
  {
   "cell_type": "code",
   "execution_count": null,
   "id": "e7d75f06-ea81-410e-a7c7-f7c6e73e6213",
   "metadata": {},
   "outputs": [],
   "source": [
    "all_df.shape"
   ]
  },
  {
   "cell_type": "code",
   "execution_count": null,
   "id": "12d7adad-6d65-4921-8592-df01b16b21ab",
   "metadata": {},
   "outputs": [],
   "source": [
    "all_df.shape"
   ]
  },
  {
   "cell_type": "code",
   "execution_count": null,
   "id": "d89ea443-7a54-42e7-baf8-f103e48543ca",
   "metadata": {},
   "outputs": [],
   "source": [
    "all_df[all_df[\"session\"] == 11098528]"
   ]
  },
  {
   "cell_type": "code",
   "execution_count": 93,
   "id": "30e45e47-33e9-442a-989e-375d7af13b56",
   "metadata": {},
   "outputs": [],
   "source": [
    "import pandas as pd\n",
    "sub = pd.read_csv(\"./ensemble/sub1.csv\")\n",
    "sub = sub.rename(columns={\"labels\": \"ranker\"})\n",
    "sub[\"ranker\"] = sub[\"ranker\"].apply(lambda x: [int(v) for v in x.split(\" \")])\n",
    "sub[\"ranker\"] = sub[\"ranker\"].apply(lambda x: list(set(x)))\n",
    "\n",
    "sub2 = pd.read_csv(\"./ensemble/sub2.csv\")\n",
    "sub2[\"top_n\"] = sub2[\"top_n\"].apply(lambda x: [int(v) for v in x.split(\" \")])\n",
    "sub2[\"top\"].fillna(\"-1\", inplace=True)\n",
    "sub2[\"top\"] = sub2[\"top\"].apply(lambda x: [int(v) for v in x.split(\" \")])\n",
    "sub2[\"top\"] = sub2[\"top\"].apply(lambda x: x if x[0] != -1 else [])\n",
    "sub2[\"top\"] = sub2[\"top\"].apply(lambda x: list(set(x)))\n",
    "sub2[\"top_n\"] = sub2[\"top_n\"].apply(lambda x: list(set(x)))\n",
    "\n",
    "joined = sub2.merge(sub, on=\"session_type\")"
   ]
  },
  {
   "cell_type": "code",
   "execution_count": 95,
   "id": "3d664ac5-356d-46b8-8f2c-705ba18c165e",
   "metadata": {},
   "outputs": [],
   "source": [
    "joined[\"ranker_append\"] = joined.apply(lambda x: list(set(x[\"ranker\"]) - set(x[\"top_n\"])), axis=1)"
   ]
  },
  {
   "cell_type": "code",
   "execution_count": 100,
   "id": "3598341c-d2d7-4b1d-98cc-17054c9668ed",
   "metadata": {},
   "outputs": [
    {
     "data": {
      "text/html": [
       "<div>\n",
       "<style scoped>\n",
       "    .dataframe tbody tr th:only-of-type {\n",
       "        vertical-align: middle;\n",
       "    }\n",
       "\n",
       "    .dataframe tbody tr th {\n",
       "        vertical-align: top;\n",
       "    }\n",
       "\n",
       "    .dataframe thead th {\n",
       "        text-align: right;\n",
       "    }\n",
       "</style>\n",
       "<table border=\"1\" class=\"dataframe\">\n",
       "  <thead>\n",
       "    <tr style=\"text-align: right;\">\n",
       "      <th></th>\n",
       "      <th>session_type</th>\n",
       "      <th>labels</th>\n",
       "      <th>top_n</th>\n",
       "      <th>top</th>\n",
       "      <th>ranker</th>\n",
       "      <th>ranker_append</th>\n",
       "    </tr>\n",
       "  </thead>\n",
       "  <tbody>\n",
       "    <tr>\n",
       "      <th>0</th>\n",
       "      <td>12899779_clicks</td>\n",
       "      <td>59625 1253524 737445 438191 731692 1790770 942...</td>\n",
       "      <td>[164098, 339846, 1667087, 1253524, 94230, 9415...</td>\n",
       "      <td>[]</td>\n",
       "      <td>[59625]</td>\n",
       "      <td>[]</td>\n",
       "    </tr>\n",
       "    <tr>\n",
       "      <th>1</th>\n",
       "      <td>12899780_clicks</td>\n",
       "      <td>1142000 736515 973453 582732 1502122 889686 48...</td>\n",
       "      <td>[736515, 1263108, 1758603, 973453, 1502122, 63...</td>\n",
       "      <td>[]</td>\n",
       "      <td>[1142000, 736515, 582732, 973453]</td>\n",
       "      <td>[]</td>\n",
       "    </tr>\n",
       "    <tr>\n",
       "      <th>2</th>\n",
       "      <td>12899781_clicks</td>\n",
       "      <td>918667 199008 194067 57315 141736 1460571 7594...</td>\n",
       "      <td>[1681537, 1422724, 918667, 759436, 194067, 141...</td>\n",
       "      <td>[]</td>\n",
       "      <td>[199008, 57315, 141736, 918667, 194067]</td>\n",
       "      <td>[]</td>\n",
       "    </tr>\n",
       "    <tr>\n",
       "      <th>3</th>\n",
       "      <td>12899782_clicks</td>\n",
       "      <td>834354 595994 740494 889671 987399 779477 1344...</td>\n",
       "      <td>[1344773, 987399, 413962, 975116, 740494, 1669...</td>\n",
       "      <td>[]</td>\n",
       "      <td>[479970, 1696036, 1344773, 889671, 987399, 103...</td>\n",
       "      <td>[]</td>\n",
       "    </tr>\n",
       "    <tr>\n",
       "      <th>4</th>\n",
       "      <td>12899783_clicks</td>\n",
       "      <td>1817895 607638 1754419 1216820 1729553 300127 ...</td>\n",
       "      <td>[354698, 230028, 1729553, 607638, 1114789, 181...</td>\n",
       "      <td>[]</td>\n",
       "      <td>[255297, 1114789, 1817895, 198385, 1729553, 17...</td>\n",
       "      <td>[]</td>\n",
       "    </tr>\n",
       "  </tbody>\n",
       "</table>\n",
       "</div>"
      ],
      "text/plain": [
       "      session_type                                             labels  \\\n",
       "0  12899779_clicks  59625 1253524 737445 438191 731692 1790770 942...   \n",
       "1  12899780_clicks  1142000 736515 973453 582732 1502122 889686 48...   \n",
       "2  12899781_clicks  918667 199008 194067 57315 141736 1460571 7594...   \n",
       "3  12899782_clicks  834354 595994 740494 889671 987399 779477 1344...   \n",
       "4  12899783_clicks  1817895 607638 1754419 1216820 1729553 300127 ...   \n",
       "\n",
       "                                               top_n top  \\\n",
       "0  [164098, 339846, 1667087, 1253524, 94230, 9415...  []   \n",
       "1  [736515, 1263108, 1758603, 973453, 1502122, 63...  []   \n",
       "2  [1681537, 1422724, 918667, 759436, 194067, 141...  []   \n",
       "3  [1344773, 987399, 413962, 975116, 740494, 1669...  []   \n",
       "4  [354698, 230028, 1729553, 607638, 1114789, 181...  []   \n",
       "\n",
       "                                              ranker ranker_append  \n",
       "0                                            [59625]            []  \n",
       "1                  [1142000, 736515, 582732, 973453]            []  \n",
       "2            [199008, 57315, 141736, 918667, 194067]            []  \n",
       "3  [479970, 1696036, 1344773, 889671, 987399, 103...            []  \n",
       "4  [255297, 1114789, 1817895, 198385, 1729553, 17...            []  "
      ]
     },
     "execution_count": 100,
     "metadata": {},
     "output_type": "execute_result"
    }
   ],
   "source": [
    "joined.head()"
   ]
  },
  {
   "cell_type": "code",
   "execution_count": 101,
   "id": "df660890-88fc-4c59-b80e-7e99894bac97",
   "metadata": {},
   "outputs": [],
   "source": [
    "joined[\"top_append\"] = joined.apply(lambda x: list(set(x[\"top\"]) - set(x[\"top_n\"]) - set(x[\"ranker_append\"])), axis=1)"
   ]
  },
  {
   "cell_type": "code",
   "execution_count": 103,
   "id": "941059af-39ed-4177-9e4f-666d3d0de34a",
   "metadata": {},
   "outputs": [
    {
     "data": {
      "text/html": [
       "<div>\n",
       "<style scoped>\n",
       "    .dataframe tbody tr th:only-of-type {\n",
       "        vertical-align: middle;\n",
       "    }\n",
       "\n",
       "    .dataframe tbody tr th {\n",
       "        vertical-align: top;\n",
       "    }\n",
       "\n",
       "    .dataframe thead th {\n",
       "        text-align: right;\n",
       "    }\n",
       "</style>\n",
       "<table border=\"1\" class=\"dataframe\">\n",
       "  <thead>\n",
       "    <tr style=\"text-align: right;\">\n",
       "      <th></th>\n",
       "      <th>session_type</th>\n",
       "      <th>labels</th>\n",
       "      <th>top_n</th>\n",
       "      <th>top</th>\n",
       "      <th>ranker</th>\n",
       "      <th>ranker_append</th>\n",
       "      <th>top_append</th>\n",
       "    </tr>\n",
       "  </thead>\n",
       "  <tbody>\n",
       "    <tr>\n",
       "      <th>0</th>\n",
       "      <td>12899779_clicks</td>\n",
       "      <td>59625 1253524 737445 438191 731692 1790770 942...</td>\n",
       "      <td>[164098, 339846, 1667087, 1253524, 94230, 9415...</td>\n",
       "      <td>[]</td>\n",
       "      <td>[59625]</td>\n",
       "      <td>[]</td>\n",
       "      <td>[]</td>\n",
       "    </tr>\n",
       "    <tr>\n",
       "      <th>1</th>\n",
       "      <td>12899780_clicks</td>\n",
       "      <td>1142000 736515 973453 582732 1502122 889686 48...</td>\n",
       "      <td>[736515, 1263108, 1758603, 973453, 1502122, 63...</td>\n",
       "      <td>[]</td>\n",
       "      <td>[1142000, 736515, 582732, 973453]</td>\n",
       "      <td>[]</td>\n",
       "      <td>[]</td>\n",
       "    </tr>\n",
       "    <tr>\n",
       "      <th>2</th>\n",
       "      <td>12899781_clicks</td>\n",
       "      <td>918667 199008 194067 57315 141736 1460571 7594...</td>\n",
       "      <td>[1681537, 1422724, 918667, 759436, 194067, 141...</td>\n",
       "      <td>[]</td>\n",
       "      <td>[199008, 57315, 141736, 918667, 194067]</td>\n",
       "      <td>[]</td>\n",
       "      <td>[]</td>\n",
       "    </tr>\n",
       "    <tr>\n",
       "      <th>3</th>\n",
       "      <td>12899782_clicks</td>\n",
       "      <td>834354 595994 740494 889671 987399 779477 1344...</td>\n",
       "      <td>[1344773, 987399, 413962, 975116, 740494, 1669...</td>\n",
       "      <td>[]</td>\n",
       "      <td>[479970, 1696036, 1344773, 889671, 987399, 103...</td>\n",
       "      <td>[]</td>\n",
       "      <td>[]</td>\n",
       "    </tr>\n",
       "    <tr>\n",
       "      <th>4</th>\n",
       "      <td>12899783_clicks</td>\n",
       "      <td>1817895 607638 1754419 1216820 1729553 300127 ...</td>\n",
       "      <td>[354698, 230028, 1729553, 607638, 1114789, 181...</td>\n",
       "      <td>[]</td>\n",
       "      <td>[255297, 1114789, 1817895, 198385, 1729553, 17...</td>\n",
       "      <td>[]</td>\n",
       "      <td>[]</td>\n",
       "    </tr>\n",
       "  </tbody>\n",
       "</table>\n",
       "</div>"
      ],
      "text/plain": [
       "      session_type                                             labels  \\\n",
       "0  12899779_clicks  59625 1253524 737445 438191 731692 1790770 942...   \n",
       "1  12899780_clicks  1142000 736515 973453 582732 1502122 889686 48...   \n",
       "2  12899781_clicks  918667 199008 194067 57315 141736 1460571 7594...   \n",
       "3  12899782_clicks  834354 595994 740494 889671 987399 779477 1344...   \n",
       "4  12899783_clicks  1817895 607638 1754419 1216820 1729553 300127 ...   \n",
       "\n",
       "                                               top_n top  \\\n",
       "0  [164098, 339846, 1667087, 1253524, 94230, 9415...  []   \n",
       "1  [736515, 1263108, 1758603, 973453, 1502122, 63...  []   \n",
       "2  [1681537, 1422724, 918667, 759436, 194067, 141...  []   \n",
       "3  [1344773, 987399, 413962, 975116, 740494, 1669...  []   \n",
       "4  [354698, 230028, 1729553, 607638, 1114789, 181...  []   \n",
       "\n",
       "                                              ranker ranker_append top_append  \n",
       "0                                            [59625]            []         []  \n",
       "1                  [1142000, 736515, 582732, 973453]            []         []  \n",
       "2            [199008, 57315, 141736, 918667, 194067]            []         []  \n",
       "3  [479970, 1696036, 1344773, 889671, 987399, 103...            []         []  \n",
       "4  [255297, 1114789, 1817895, 198385, 1729553, 17...            []         []  "
      ]
     },
     "execution_count": 103,
     "metadata": {},
     "output_type": "execute_result"
    }
   ],
   "source": [
    "joined.head()"
   ]
  },
  {
   "cell_type": "code",
   "execution_count": 105,
   "id": "6d6063de-eb4d-45e6-b791-fbb43886a131",
   "metadata": {},
   "outputs": [],
   "source": [
    "joined[\"labels\"] = joined.apply(lambda x: (x[\"top_n\"] + x[\"ranker_append\"] + x[\"top_append\"])[:20], axis=1)"
   ]
  },
  {
   "cell_type": "code",
   "execution_count": 107,
   "id": "3975cfea-1ad7-4986-9a1d-fdeefc17ff92",
   "metadata": {},
   "outputs": [],
   "source": [
    "joined[\"labels\"] = joined[\"labels\"].apply(lambda x: \" \".join(map(str, x)))"
   ]
  },
  {
   "cell_type": "code",
   "execution_count": 110,
   "id": "bd0bfe24-2723-493b-ad7c-8a0d69a7e4a6",
   "metadata": {},
   "outputs": [],
   "source": [
    "joined[[\"session_type\", \"labels\"]].to_csv(\"submission.csv\", index=False)"
   ]
  }
 ],
 "metadata": {
  "kernelspec": {
   "display_name": "Python 3 (ipykernel)",
   "language": "python",
   "name": "python3"
  },
  "language_info": {
   "codemirror_mode": {
    "name": "ipython",
    "version": 3
   },
   "file_extension": ".py",
   "mimetype": "text/x-python",
   "name": "python",
   "nbconvert_exporter": "python",
   "pygments_lexer": "ipython3",
   "version": "3.9.12"
  }
 },
 "nbformat": 4,
 "nbformat_minor": 5
}
