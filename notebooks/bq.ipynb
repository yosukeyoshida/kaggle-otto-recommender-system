{
 "cells": [
  {
   "cell_type": "code",
   "execution_count": 13,
   "id": "420fa721-8e93-437e-b8b9-b748589334e7",
   "metadata": {},
   "outputs": [],
   "source": [
    "import pandas as pd\n",
    "import pickle\n",
    "import os"
   ]
  },
  {
   "cell_type": "code",
   "execution_count": 32,
   "id": "0d419dc4-6ae6-4456-9d33-e41284a48350",
   "metadata": {},
   "outputs": [],
   "source": [
    "pred_df = pickle.load(open(\"../output/cv/pred_df.pkl\", \"rb\"))"
   ]
  },
  {
   "cell_type": "code",
   "execution_count": 34,
   "id": "2e541604-6356-4636-af88-ee3399951925",
   "metadata": {},
   "outputs": [
    {
     "data": {
      "text/html": [
       "<div>\n",
       "<style scoped>\n",
       "    .dataframe tbody tr th:only-of-type {\n",
       "        vertical-align: middle;\n",
       "    }\n",
       "\n",
       "    .dataframe tbody tr th {\n",
       "        vertical-align: top;\n",
       "    }\n",
       "\n",
       "    .dataframe thead th {\n",
       "        text-align: right;\n",
       "    }\n",
       "</style>\n",
       "<table border=\"1\" class=\"dataframe\">\n",
       "  <thead>\n",
       "    <tr style=\"text-align: right;\">\n",
       "      <th></th>\n",
       "      <th>session</th>\n",
       "      <th>labels</th>\n",
       "      <th>type</th>\n",
       "    </tr>\n",
       "  </thead>\n",
       "  <tbody>\n",
       "    <tr>\n",
       "      <th>1726916</th>\n",
       "      <td>12825444</td>\n",
       "      <td>[315484, 490627, 1465437]</td>\n",
       "      <td>clicks</td>\n",
       "    </tr>\n",
       "    <tr>\n",
       "      <th>3528167</th>\n",
       "      <td>12825444</td>\n",
       "      <td>[1799296, 490627, 1427516, 1091187, 456754, 14...</td>\n",
       "      <td>orders</td>\n",
       "    </tr>\n",
       "    <tr>\n",
       "      <th>5329418</th>\n",
       "      <td>12825444</td>\n",
       "      <td>[1799296, 490627, 1427516, 1091187, 456754, 14...</td>\n",
       "      <td>carts</td>\n",
       "    </tr>\n",
       "  </tbody>\n",
       "</table>\n",
       "</div>"
      ],
      "text/plain": [
       "          session                                             labels    type\n",
       "1726916  12825444                          [315484, 490627, 1465437]  clicks\n",
       "3528167  12825444  [1799296, 490627, 1427516, 1091187, 456754, 14...  orders\n",
       "5329418  12825444  [1799296, 490627, 1427516, 1091187, 456754, 14...   carts"
      ]
     },
     "execution_count": 34,
     "metadata": {},
     "output_type": "execute_result"
    }
   ],
   "source": [
    "pred_df[pred_df[\"session\"] == '12825444']"
   ]
  },
  {
   "cell_type": "code",
   "execution_count": 28,
   "id": "835247bf-5648-472c-a742-ef73c485e960",
   "metadata": {},
   "outputs": [],
   "source": [
    "pred_df = pred_df.explode(\"labels\")"
   ]
  },
  {
   "cell_type": "code",
   "execution_count": 29,
   "id": "bc0be86b-3f38-463e-864a-8d77efcd8621",
   "metadata": {},
   "outputs": [
    {
     "data": {
      "text/html": [
       "<div>\n",
       "<style scoped>\n",
       "    .dataframe tbody tr th:only-of-type {\n",
       "        vertical-align: middle;\n",
       "    }\n",
       "\n",
       "    .dataframe tbody tr th {\n",
       "        vertical-align: top;\n",
       "    }\n",
       "\n",
       "    .dataframe thead th {\n",
       "        text-align: right;\n",
       "    }\n",
       "</style>\n",
       "<table border=\"1\" class=\"dataframe\">\n",
       "  <thead>\n",
       "    <tr style=\"text-align: right;\">\n",
       "      <th></th>\n",
       "      <th>session</th>\n",
       "      <th>labels</th>\n",
       "      <th>type</th>\n",
       "    </tr>\n",
       "  </thead>\n",
       "  <tbody>\n",
       "    <tr>\n",
       "      <th>0</th>\n",
       "      <td>11098528</td>\n",
       "      <td>588923</td>\n",
       "      <td>clicks</td>\n",
       "    </tr>\n",
       "    <tr>\n",
       "      <th>0</th>\n",
       "      <td>11098528</td>\n",
       "      <td>1732105</td>\n",
       "      <td>clicks</td>\n",
       "    </tr>\n",
       "    <tr>\n",
       "      <th>0</th>\n",
       "      <td>11098528</td>\n",
       "      <td>571762</td>\n",
       "      <td>clicks</td>\n",
       "    </tr>\n",
       "    <tr>\n",
       "      <th>0</th>\n",
       "      <td>11098528</td>\n",
       "      <td>884502</td>\n",
       "      <td>clicks</td>\n",
       "    </tr>\n",
       "    <tr>\n",
       "      <th>0</th>\n",
       "      <td>11098528</td>\n",
       "      <td>1157882</td>\n",
       "      <td>clicks</td>\n",
       "    </tr>\n",
       "  </tbody>\n",
       "</table>\n",
       "</div>"
      ],
      "text/plain": [
       "    session   labels    type\n",
       "0  11098528   588923  clicks\n",
       "0  11098528  1732105  clicks\n",
       "0  11098528   571762  clicks\n",
       "0  11098528   884502  clicks\n",
       "0  11098528  1157882  clicks"
      ]
     },
     "execution_count": 29,
     "metadata": {},
     "output_type": "execute_result"
    }
   ],
   "source": [
    "pred_df.head()"
   ]
  },
  {
   "cell_type": "code",
   "execution_count": 30,
   "id": "13f03ee1-701e-4e23-95bd-8f07e3dfe385",
   "metadata": {},
   "outputs": [],
   "source": [
    "pred_df = pred_df.rename(columns={\"labels\": \"aid\"})"
   ]
  },
  {
   "cell_type": "code",
   "execution_count": 31,
   "id": "793cf5fd-c782-45c7-98b4-7403a55320c1",
   "metadata": {},
   "outputs": [],
   "source": [
    "pred_df.to_csv(\"pred_df.csv\", index=False)"
   ]
  },
  {
   "cell_type": "code",
   "execution_count": null,
   "id": "11bfcdcb-db76-48b5-aa78-128675a88759",
   "metadata": {},
   "outputs": [],
   "source": []
  },
  {
   "cell_type": "code",
   "execution_count": 20,
   "id": "691b9464-c6ed-45af-a8a9-d88e78c4f4d7",
   "metadata": {},
   "outputs": [
    {
     "data": {
      "text/html": [
       "<div>\n",
       "<style scoped>\n",
       "    .dataframe tbody tr th:only-of-type {\n",
       "        vertical-align: middle;\n",
       "    }\n",
       "\n",
       "    .dataframe tbody tr th {\n",
       "        vertical-align: top;\n",
       "    }\n",
       "\n",
       "    .dataframe thead th {\n",
       "        text-align: right;\n",
       "    }\n",
       "</style>\n",
       "<table border=\"1\" class=\"dataframe\">\n",
       "  <thead>\n",
       "    <tr style=\"text-align: right;\">\n",
       "      <th></th>\n",
       "      <th>session</th>\n",
       "      <th>type</th>\n",
       "      <th>aid</th>\n",
       "    </tr>\n",
       "  </thead>\n",
       "  <tbody>\n",
       "    <tr>\n",
       "      <th>0</th>\n",
       "      <td>11098528</td>\n",
       "      <td>clicks</td>\n",
       "      <td>11830</td>\n",
       "    </tr>\n",
       "    <tr>\n",
       "      <th>0</th>\n",
       "      <td>11098528</td>\n",
       "      <td>clicks</td>\n",
       "      <td>588923</td>\n",
       "    </tr>\n",
       "    <tr>\n",
       "      <th>0</th>\n",
       "      <td>11098528</td>\n",
       "      <td>clicks</td>\n",
       "      <td>1732105</td>\n",
       "    </tr>\n",
       "    <tr>\n",
       "      <th>0</th>\n",
       "      <td>11098528</td>\n",
       "      <td>clicks</td>\n",
       "      <td>571762</td>\n",
       "    </tr>\n",
       "    <tr>\n",
       "      <th>0</th>\n",
       "      <td>11098528</td>\n",
       "      <td>clicks</td>\n",
       "      <td>884502</td>\n",
       "    </tr>\n",
       "  </tbody>\n",
       "</table>\n",
       "</div>"
      ],
      "text/plain": [
       "    session    type      aid\n",
       "0  11098528  clicks    11830\n",
       "0  11098528  clicks   588923\n",
       "0  11098528  clicks  1732105\n",
       "0  11098528  clicks   571762\n",
       "0  11098528  clicks   884502"
      ]
     },
     "execution_count": 20,
     "metadata": {},
     "output_type": "execute_result"
    }
   ],
   "source": [
    "df = pd.read_csv(\"../output/splendid-flower-28/cv/full_columns_validation_preds.csv\")\n",
    "df[\"session\"] = df[\"session_type\"].apply(lambda x: x.split(\"_\")[0])\n",
    "df[\"type\"] = df[\"session_type\"].apply(lambda x: x.split(\"_\")[1])\n",
    "df = df[[\"session\", \"type\", \"top_n\"]]\n",
    "df[\"top_n\"] = df[\"top_n\"].apply(lambda x: [int(v) for v in x.split(\" \")])\n",
    "df = df.explode(\"top_n\")\n",
    "df = df.rename(columns={\"top_n\": \"aid\"})\n",
    "df.head()"
   ]
  },
  {
   "cell_type": "code",
   "execution_count": 21,
   "id": "75c13c3a-1162-4308-bdce-b8c44df0916e",
   "metadata": {},
   "outputs": [
    {
     "data": {
      "text/plain": [
       "(100348921, 3)"
      ]
     },
     "execution_count": 21,
     "metadata": {},
     "output_type": "execute_result"
    }
   ],
   "source": [
    "df.shape"
   ]
  },
  {
   "cell_type": "code",
   "execution_count": 22,
   "id": "d9e5ac7a-e3d1-4e53-9534-0172c606a39c",
   "metadata": {},
   "outputs": [],
   "source": [
    "df.to_csv(\"covisit.csv\", index=False)"
   ]
  },
  {
   "cell_type": "code",
   "execution_count": null,
   "id": "758cdd02-808b-411e-8180-80a955bfa248",
   "metadata": {},
   "outputs": [],
   "source": []
  },
  {
   "cell_type": "code",
   "execution_count": 5,
   "id": "475a8188-b65c-4cfa-8771-b52d40542937",
   "metadata": {},
   "outputs": [],
   "source": [
    "top_n_clicks = pickle.load(open(os.path.join(\"../output/splendid-flower-28/cv\", f\"top_20_clicks_0.pkl\"), \"rb\"))"
   ]
  },
  {
   "cell_type": "code",
   "execution_count": 3,
   "id": "280ee906-af99-4301-b480-beed71a5d914",
   "metadata": {},
   "outputs": [],
   "source": []
  },
  {
   "cell_type": "code",
   "execution_count": 11,
   "id": "a630a362-f378-49bd-90d5-d85a52f72cf3",
   "metadata": {},
   "outputs": [
    {
     "data": {
      "text/plain": [
       "[532042,\n",
       " 643097,\n",
       " 1848174,\n",
       " 1735605,\n",
       " 1363081,\n",
       " 1012453,\n",
       " 251581,\n",
       " 1256426,\n",
       " 994505,\n",
       " 150507,\n",
       " 39551,\n",
       " 66456,\n",
       " 215649,\n",
       " 285817,\n",
       " 319593,\n",
       " 353304,\n",
       " 435875,\n",
       " 472412,\n",
       " 505086,\n",
       " 878565]"
      ]
     },
     "execution_count": 11,
     "metadata": {},
     "output_type": "execute_result"
    }
   ],
   "source": [
    "top_n_clicks[0]"
   ]
  },
  {
   "cell_type": "code",
   "execution_count": null,
   "id": "a2cb8262-5e1b-443c-a509-146ab683590e",
   "metadata": {},
   "outputs": [],
   "source": []
  }
 ],
 "metadata": {
  "kernelspec": {
   "display_name": "Python 3 (ipykernel)",
   "language": "python",
   "name": "python3"
  },
  "language_info": {
   "codemirror_mode": {
    "name": "ipython",
    "version": 3
   },
   "file_extension": ".py",
   "mimetype": "text/x-python",
   "name": "python",
   "nbconvert_exporter": "python",
   "pygments_lexer": "ipython3",
   "version": "3.9.12"
  }
 },
 "nbformat": 4,
 "nbformat_minor": 5
}
