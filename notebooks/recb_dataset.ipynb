{
 "cells": [
  {
   "cell_type": "code",
   "execution_count": 1,
   "id": "9ff532f6-c115-417e-9ba8-83836f8dfb33",
   "metadata": {},
   "outputs": [],
   "source": [
    "import pandas as pd\n",
    "import pickle"
   ]
  },
  {
   "cell_type": "code",
   "execution_count": 12,
   "id": "38c86c5a-bc4a-40b0-9cbd-b277cad30f66",
   "metadata": {},
   "outputs": [],
   "source": [
    "pred_click = pickle.load(open(\"../output/gru4rec/stoic-paper-428/cv/test_labels_clicks.pkl\", \"rb\"))"
   ]
  },
  {
   "cell_type": "code",
   "execution_count": 13,
   "id": "334383c0-ce83-47af-9720-55636af6cd6d",
   "metadata": {},
   "outputs": [
    {
     "data": {
      "text/plain": [
       "(1755534, 7)"
      ]
     },
     "execution_count": 13,
     "metadata": {},
     "output_type": "execute_result"
    }
   ],
   "source": [
    "pred_click.shape"
   ]
  },
  {
   "cell_type": "code",
   "execution_count": 14,
   "id": "277840d9-fcd0-4b54-b74e-33d2d39c4efd",
   "metadata": {},
   "outputs": [],
   "source": [
    "pred_click_best = pickle.load(open(\"../output/gru4rec/crisp-glitter-347/cv/test_labels_clicks.pkl\", \"rb\"))"
   ]
  },
  {
   "cell_type": "code",
   "execution_count": 15,
   "id": "2e18a432-ecf1-4479-932c-b89d0c2d9274",
   "metadata": {},
   "outputs": [
    {
     "data": {
      "text/plain": [
       "(1755534, 7)"
      ]
     },
     "execution_count": 15,
     "metadata": {},
     "output_type": "execute_result"
    }
   ],
   "source": [
    "pred_click_best.shape"
   ]
  },
  {
   "cell_type": "code",
   "execution_count": 18,
   "id": "a9c0be03-6c1f-4707-b60c-76373c88007c",
   "metadata": {},
   "outputs": [
    {
     "data": {
      "text/html": [
       "<div>\n",
       "<style scoped>\n",
       "    .dataframe tbody tr th:only-of-type {\n",
       "        vertical-align: middle;\n",
       "    }\n",
       "\n",
       "    .dataframe tbody tr th {\n",
       "        vertical-align: top;\n",
       "    }\n",
       "\n",
       "    .dataframe thead th {\n",
       "        text-align: right;\n",
       "    }\n",
       "</style>\n",
       "<table border=\"1\" class=\"dataframe\">\n",
       "  <thead>\n",
       "    <tr style=\"text-align: right;\">\n",
       "      <th></th>\n",
       "      <th>session</th>\n",
       "      <th>type</th>\n",
       "      <th>ground_truth</th>\n",
       "      <th>aid</th>\n",
       "      <th>hits</th>\n",
       "      <th>gt_count</th>\n",
       "      <th>recall</th>\n",
       "    </tr>\n",
       "  </thead>\n",
       "  <tbody>\n",
       "    <tr>\n",
       "      <th>0</th>\n",
       "      <td>11098528</td>\n",
       "      <td>clicks</td>\n",
       "      <td>[1679529]</td>\n",
       "      <td>[11830, 571762, 588923, 884502, 322370, 231487...</td>\n",
       "      <td>0</td>\n",
       "      <td>1</td>\n",
       "      <td>0.0</td>\n",
       "    </tr>\n",
       "    <tr>\n",
       "      <th>1</th>\n",
       "      <td>11098529</td>\n",
       "      <td>clicks</td>\n",
       "      <td>[1105029]</td>\n",
       "      <td>[]</td>\n",
       "      <td>0</td>\n",
       "      <td>1</td>\n",
       "      <td>0.0</td>\n",
       "    </tr>\n",
       "    <tr>\n",
       "      <th>2</th>\n",
       "      <td>11098532</td>\n",
       "      <td>clicks</td>\n",
       "      <td>[1596491]</td>\n",
       "      <td>[876469, 1159379, 1202618, 1704066, 77906, 108...</td>\n",
       "      <td>0</td>\n",
       "      <td>1</td>\n",
       "      <td>0.0</td>\n",
       "    </tr>\n",
       "    <tr>\n",
       "      <th>3</th>\n",
       "      <td>11098533</td>\n",
       "      <td>clicks</td>\n",
       "      <td>[1417450]</td>\n",
       "      <td>[]</td>\n",
       "      <td>0</td>\n",
       "      <td>1</td>\n",
       "      <td>0.0</td>\n",
       "    </tr>\n",
       "    <tr>\n",
       "      <th>4</th>\n",
       "      <td>11098534</td>\n",
       "      <td>clicks</td>\n",
       "      <td>[908024]</td>\n",
       "      <td>[123362, 908024, 1789979, 1281786, 721034, 756...</td>\n",
       "      <td>1</td>\n",
       "      <td>1</td>\n",
       "      <td>1.0</td>\n",
       "    </tr>\n",
       "    <tr>\n",
       "      <th>5</th>\n",
       "      <td>11098535</td>\n",
       "      <td>clicks</td>\n",
       "      <td>[745365]</td>\n",
       "      <td>[]</td>\n",
       "      <td>0</td>\n",
       "      <td>1</td>\n",
       "      <td>0.0</td>\n",
       "    </tr>\n",
       "    <tr>\n",
       "      <th>6</th>\n",
       "      <td>11098536</td>\n",
       "      <td>clicks</td>\n",
       "      <td>[1548432]</td>\n",
       "      <td>[1808377, 1320019, 1248272, 171073, 712456, 74...</td>\n",
       "      <td>0</td>\n",
       "      <td>1</td>\n",
       "      <td>0.0</td>\n",
       "    </tr>\n",
       "    <tr>\n",
       "      <th>7</th>\n",
       "      <td>11098537</td>\n",
       "      <td>clicks</td>\n",
       "      <td>[1503532]</td>\n",
       "      <td>[]</td>\n",
       "      <td>0</td>\n",
       "      <td>1</td>\n",
       "      <td>0.0</td>\n",
       "    </tr>\n",
       "    <tr>\n",
       "      <th>8</th>\n",
       "      <td>11098538</td>\n",
       "      <td>clicks</td>\n",
       "      <td>[1452081]</td>\n",
       "      <td>[]</td>\n",
       "      <td>0</td>\n",
       "      <td>1</td>\n",
       "      <td>0.0</td>\n",
       "    </tr>\n",
       "    <tr>\n",
       "      <th>9</th>\n",
       "      <td>11098539</td>\n",
       "      <td>clicks</td>\n",
       "      <td>[1049480]</td>\n",
       "      <td>[631008, 1057728, 803544, 1060697, 1196705, 76...</td>\n",
       "      <td>1</td>\n",
       "      <td>1</td>\n",
       "      <td>1.0</td>\n",
       "    </tr>\n",
       "  </tbody>\n",
       "</table>\n",
       "</div>"
      ],
      "text/plain": [
       "    session    type ground_truth  \\\n",
       "0  11098528  clicks    [1679529]   \n",
       "1  11098529  clicks    [1105029]   \n",
       "2  11098532  clicks    [1596491]   \n",
       "3  11098533  clicks    [1417450]   \n",
       "4  11098534  clicks     [908024]   \n",
       "5  11098535  clicks     [745365]   \n",
       "6  11098536  clicks    [1548432]   \n",
       "7  11098537  clicks    [1503532]   \n",
       "8  11098538  clicks    [1452081]   \n",
       "9  11098539  clicks    [1049480]   \n",
       "\n",
       "                                                 aid  hits  gt_count  recall  \n",
       "0  [11830, 571762, 588923, 884502, 322370, 231487...     0         1     0.0  \n",
       "1                                                 []     0         1     0.0  \n",
       "2  [876469, 1159379, 1202618, 1704066, 77906, 108...     0         1     0.0  \n",
       "3                                                 []     0         1     0.0  \n",
       "4  [123362, 908024, 1789979, 1281786, 721034, 756...     1         1     1.0  \n",
       "5                                                 []     0         1     0.0  \n",
       "6  [1808377, 1320019, 1248272, 171073, 712456, 74...     0         1     0.0  \n",
       "7                                                 []     0         1     0.0  \n",
       "8                                                 []     0         1     0.0  \n",
       "9  [631008, 1057728, 803544, 1060697, 1196705, 76...     1         1     1.0  "
      ]
     },
     "execution_count": 18,
     "metadata": {},
     "output_type": "execute_result"
    }
   ],
   "source": [
    "pred_click.head(10)"
   ]
  },
  {
   "cell_type": "code",
   "execution_count": 19,
   "id": "6019ac9a-0307-4689-b088-c6c317d75b88",
   "metadata": {},
   "outputs": [
    {
     "data": {
      "text/html": [
       "<div>\n",
       "<style scoped>\n",
       "    .dataframe tbody tr th:only-of-type {\n",
       "        vertical-align: middle;\n",
       "    }\n",
       "\n",
       "    .dataframe tbody tr th {\n",
       "        vertical-align: top;\n",
       "    }\n",
       "\n",
       "    .dataframe thead th {\n",
       "        text-align: right;\n",
       "    }\n",
       "</style>\n",
       "<table border=\"1\" class=\"dataframe\">\n",
       "  <thead>\n",
       "    <tr style=\"text-align: right;\">\n",
       "      <th></th>\n",
       "      <th>session</th>\n",
       "      <th>type</th>\n",
       "      <th>ground_truth</th>\n",
       "      <th>aid</th>\n",
       "      <th>hits</th>\n",
       "      <th>gt_count</th>\n",
       "      <th>recall</th>\n",
       "    </tr>\n",
       "  </thead>\n",
       "  <tbody>\n",
       "    <tr>\n",
       "      <th>0</th>\n",
       "      <td>11098528</td>\n",
       "      <td>clicks</td>\n",
       "      <td>[1679529]</td>\n",
       "      <td>[11830, 588923, 1182614, 884502, 231487, 87612...</td>\n",
       "      <td>0</td>\n",
       "      <td>1</td>\n",
       "      <td>0.0</td>\n",
       "    </tr>\n",
       "    <tr>\n",
       "      <th>1</th>\n",
       "      <td>11098529</td>\n",
       "      <td>clicks</td>\n",
       "      <td>[1105029]</td>\n",
       "      <td>[1105029, 612829, 1717995, 1023655, 984936, 12...</td>\n",
       "      <td>1</td>\n",
       "      <td>1</td>\n",
       "      <td>1.0</td>\n",
       "    </tr>\n",
       "    <tr>\n",
       "      <th>2</th>\n",
       "      <td>11098532</td>\n",
       "      <td>clicks</td>\n",
       "      <td>[1596491]</td>\n",
       "      <td>[77906, 876469, 1202618, 1704066, 108125, 7651...</td>\n",
       "      <td>0</td>\n",
       "      <td>1</td>\n",
       "      <td>0.0</td>\n",
       "    </tr>\n",
       "    <tr>\n",
       "      <th>3</th>\n",
       "      <td>11098533</td>\n",
       "      <td>clicks</td>\n",
       "      <td>[1417450]</td>\n",
       "      <td>[385390, 978918, 1074173, 1758448, 1590427, 15...</td>\n",
       "      <td>0</td>\n",
       "      <td>1</td>\n",
       "      <td>0.0</td>\n",
       "    </tr>\n",
       "    <tr>\n",
       "      <th>4</th>\n",
       "      <td>11098534</td>\n",
       "      <td>clicks</td>\n",
       "      <td>[908024]</td>\n",
       "      <td>[796861, 1441266, 445136, 1116864, 1204227, 41...</td>\n",
       "      <td>0</td>\n",
       "      <td>1</td>\n",
       "      <td>0.0</td>\n",
       "    </tr>\n",
       "    <tr>\n",
       "      <th>5</th>\n",
       "      <td>11098535</td>\n",
       "      <td>clicks</td>\n",
       "      <td>[745365]</td>\n",
       "      <td>[1750442, 683313, 796880, 745365, 1759600, 896...</td>\n",
       "      <td>1</td>\n",
       "      <td>1</td>\n",
       "      <td>1.0</td>\n",
       "    </tr>\n",
       "    <tr>\n",
       "      <th>6</th>\n",
       "      <td>11098536</td>\n",
       "      <td>clicks</td>\n",
       "      <td>[1548432]</td>\n",
       "      <td>[206735, 712456, 1320019, 1745348, 1600635, 12...</td>\n",
       "      <td>0</td>\n",
       "      <td>1</td>\n",
       "      <td>0.0</td>\n",
       "    </tr>\n",
       "    <tr>\n",
       "      <th>7</th>\n",
       "      <td>11098537</td>\n",
       "      <td>clicks</td>\n",
       "      <td>[1503532]</td>\n",
       "      <td>[358965, 1219423, 1664466, 518574, 590997, 266...</td>\n",
       "      <td>0</td>\n",
       "      <td>1</td>\n",
       "      <td>0.0</td>\n",
       "    </tr>\n",
       "    <tr>\n",
       "      <th>8</th>\n",
       "      <td>11098538</td>\n",
       "      <td>clicks</td>\n",
       "      <td>[1452081]</td>\n",
       "      <td>[1820142, 1176853, 1263747, 351587, 987426, 18...</td>\n",
       "      <td>1</td>\n",
       "      <td>1</td>\n",
       "      <td>1.0</td>\n",
       "    </tr>\n",
       "    <tr>\n",
       "      <th>9</th>\n",
       "      <td>11098539</td>\n",
       "      <td>clicks</td>\n",
       "      <td>[1049480]</td>\n",
       "      <td>[1658802, 1243848, 1408458, 510211, 469720, 16...</td>\n",
       "      <td>0</td>\n",
       "      <td>1</td>\n",
       "      <td>0.0</td>\n",
       "    </tr>\n",
       "  </tbody>\n",
       "</table>\n",
       "</div>"
      ],
      "text/plain": [
       "    session    type ground_truth  \\\n",
       "0  11098528  clicks    [1679529]   \n",
       "1  11098529  clicks    [1105029]   \n",
       "2  11098532  clicks    [1596491]   \n",
       "3  11098533  clicks    [1417450]   \n",
       "4  11098534  clicks     [908024]   \n",
       "5  11098535  clicks     [745365]   \n",
       "6  11098536  clicks    [1548432]   \n",
       "7  11098537  clicks    [1503532]   \n",
       "8  11098538  clicks    [1452081]   \n",
       "9  11098539  clicks    [1049480]   \n",
       "\n",
       "                                                 aid  hits  gt_count  recall  \n",
       "0  [11830, 588923, 1182614, 884502, 231487, 87612...     0         1     0.0  \n",
       "1  [1105029, 612829, 1717995, 1023655, 984936, 12...     1         1     1.0  \n",
       "2  [77906, 876469, 1202618, 1704066, 108125, 7651...     0         1     0.0  \n",
       "3  [385390, 978918, 1074173, 1758448, 1590427, 15...     0         1     0.0  \n",
       "4  [796861, 1441266, 445136, 1116864, 1204227, 41...     0         1     0.0  \n",
       "5  [1750442, 683313, 796880, 745365, 1759600, 896...     1         1     1.0  \n",
       "6  [206735, 712456, 1320019, 1745348, 1600635, 12...     0         1     0.0  \n",
       "7  [358965, 1219423, 1664466, 518574, 590997, 266...     0         1     0.0  \n",
       "8  [1820142, 1176853, 1263747, 351587, 987426, 18...     1         1     1.0  \n",
       "9  [1658802, 1243848, 1408458, 510211, 469720, 16...     0         1     0.0  "
      ]
     },
     "execution_count": 19,
     "metadata": {},
     "output_type": "execute_result"
    }
   ],
   "source": [
    "pred_click_best.head(10)"
   ]
  },
  {
   "cell_type": "code",
   "execution_count": 28,
   "id": "7809c9f1-c33b-4255-b0c3-588352035651",
   "metadata": {},
   "outputs": [
    {
     "data": {
      "text/plain": [
       "0.46397791213385786"
      ]
     },
     "execution_count": 28,
     "metadata": {},
     "output_type": "execute_result"
    }
   ],
   "source": [
    "recall = pred_click_best[\"hits\"].sum() / pred_click_best[\"gt_count\"].sum()\n",
    "recall"
   ]
  },
  {
   "cell_type": "code",
   "execution_count": 61,
   "id": "e448e32d-af3a-4c08-bc21-a8ae1d7bc5f1",
   "metadata": {},
   "outputs": [],
   "source": [
    "joined = pred_click_best[[\"session\", \"ground_truth\", \"aid\", \"recall\"]].merge(pred_click[[\"session\", \"aid\", \"recall\"]], on=[\"session\"], how=\"left\")"
   ]
  },
  {
   "cell_type": "code",
   "execution_count": 62,
   "id": "5d859c05-2d9f-48e5-a796-ab9d955c29d4",
   "metadata": {},
   "outputs": [],
   "source": [
    "joined[\"aid\"] = joined.apply(lambda x: list(set(x[\"aid_x\"]) | set(x[\"aid_y\"])), axis=1)"
   ]
  },
  {
   "cell_type": "code",
   "execution_count": 63,
   "id": "484c82a8-b1c5-416d-a715-69af6c118b47",
   "metadata": {},
   "outputs": [
    {
     "data": {
      "text/plain": [
       "0.4970214191237538"
      ]
     },
     "execution_count": 63,
     "metadata": {},
     "output_type": "execute_result"
    }
   ],
   "source": [
    "joined[\"hits\"] = joined.apply(lambda df: len(set(df[\"ground_truth\"]).intersection(set(df[\"aid\"]))), axis=1)\n",
    "joined[\"gt_count\"] = joined.ground_truth.str.len().clip(0, 20)\n",
    "joined[\"recall\"] = joined[\"hits\"] / joined[\"gt_count\"]\n",
    "recall = joined[\"hits\"].sum() / joined[\"gt_count\"].sum()\n",
    "recall"
   ]
  },
  {
   "cell_type": "code",
   "execution_count": 64,
   "id": "e0b069f8-852a-46d0-af21-92a972b2da91",
   "metadata": {},
   "outputs": [
    {
     "data": {
      "text/plain": [
       "30    594531\n",
       "44     80551\n",
       "47     74980\n",
       "46     72740\n",
       "43     72274\n",
       "45     71602\n",
       "48     68376\n",
       "49     65081\n",
       "42     60996\n",
       "50     57830\n",
       "51     56552\n",
       "52     53872\n",
       "59     48431\n",
       "41     47453\n",
       "53     45854\n",
       "54     42605\n",
       "55     39633\n",
       "58     37788\n",
       "56     36148\n",
       "40     35605\n",
       "57     34046\n",
       "39     24287\n",
       "38     14515\n",
       "60      8764\n",
       "37      7836\n",
       "36      2471\n",
       "35       588\n",
       "34       118\n",
       "33         7\n",
       "Name: aid, dtype: int64"
      ]
     },
     "execution_count": 64,
     "metadata": {},
     "output_type": "execute_result"
    }
   ],
   "source": [
    "joined[\"aid\"].str.len().value_counts()"
   ]
  },
  {
   "cell_type": "code",
   "execution_count": 65,
   "id": "22c16143-f55f-4b08-a6ca-f9c5a4edebc8",
   "metadata": {},
   "outputs": [
    {
     "data": {
      "text/plain": [
       "42.10278354050676"
      ]
     },
     "execution_count": 65,
     "metadata": {},
     "output_type": "execute_result"
    }
   ],
   "source": [
    "joined[\"aid\"].str.len().mean()"
   ]
  }
 ],
 "metadata": {
  "kernelspec": {
   "display_name": "Python 3 (ipykernel)",
   "language": "python",
   "name": "python3"
  },
  "language_info": {
   "codemirror_mode": {
    "name": "ipython",
    "version": 3
   },
   "file_extension": ".py",
   "mimetype": "text/x-python",
   "name": "python",
   "nbconvert_exporter": "python",
   "pygments_lexer": "ipython3",
   "version": "3.9.12"
  }
 },
 "nbformat": 4,
 "nbformat_minor": 5
}
