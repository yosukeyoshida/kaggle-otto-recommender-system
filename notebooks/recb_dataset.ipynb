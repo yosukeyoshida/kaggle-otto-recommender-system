{
 "cells": [
  {
   "cell_type": "code",
   "execution_count": 58,
   "id": "9ff532f6-c115-417e-9ba8-83836f8dfb33",
   "metadata": {},
   "outputs": [],
   "source": [
    "import pandas as pd\n",
    "import pickle\n",
    "from collections import Counter\n",
    "\n",
    "def topk(x, k=30):\n",
    "    c = Counter(x)\n",
    "    return [aid for aid, cnt in c.most_common(k)]"
   ]
  },
  {
   "cell_type": "code",
   "execution_count": 31,
   "id": "38c86c5a-bc4a-40b0-9cbd-b277cad30f66",
   "metadata": {},
   "outputs": [],
   "source": [
    "pred1 = pickle.load(open(\"../output/gru4rec/dry-bush-442/cv/test_labels_clicks.pkl\", \"rb\"))\n",
    "pred2 = pickle.load(open(\"../output/gru4rec/sage-spaceship-443/cv/test_labels_clicks.pkl\", \"rb\"))\n",
    "pred3 = pickle.load(open(\"../output/gru4rec/crisp-glitter-347/cv/test_labels_clicks.pkl\", \"rb\"))"
   ]
  },
  {
   "cell_type": "code",
   "execution_count": 57,
   "id": "c4fef77a-74d4-466c-b0e6-d94c2b741187",
   "metadata": {},
   "outputs": [
    {
     "name": "stderr",
     "output_type": "stream",
     "text": [
      "/opt/conda/envs/rapids/lib/python3.9/site-packages/pandas/core/indexing.py:1667: SettingWithCopyWarning: \n",
      "A value is trying to be set on a copy of a slice from a DataFrame.\n",
      "Try using .loc[row_indexer,col_indexer] = value instead\n",
      "\n",
      "See the caveats in the documentation: https://pandas.pydata.org/pandas-docs/stable/user_guide/indexing.html#returning-a-view-versus-a-copy\n",
      "  self.obj[key] = value\n"
     ]
    },
    {
     "data": {
      "text/plain": [
       "0.49445752688355793"
      ]
     },
     "execution_count": 57,
     "metadata": {},
     "output_type": "execute_result"
    }
   ],
   "source": [
    "aid_all = pred1[\"aid\"] + pred2[\"aid\"] + pred3[\"aid\"]\n",
    "\n",
    "gt = pred1[[\"ground_truth\"]]\n",
    "gt.loc[:, \"aid\"] = aid_all.apply(lambda x: topk(x))\n",
    "gt.loc[:, \"hits\"] = gt.apply(lambda df: len(set(df[\"ground_truth\"]).intersection(set(df[\"aid\"]))), axis=1)\n",
    "gt.loc[:, \"gt_count\"] = gt.ground_truth.str.len().clip(0, 20)\n",
    "gt.loc[:, \"recall\"] = gt[\"hits\"] / gt[\"gt_count\"]\n",
    "recall = gt[\"hits\"].sum() / gt[\"gt_count\"].sum()\n",
    "recall"
   ]
  },
  {
   "cell_type": "code",
   "execution_count": 59,
   "id": "7eb7fca4-2328-48a9-8ccd-baff9c5e18fa",
   "metadata": {},
   "outputs": [],
   "source": [
    "# pred1 = pickle.load(open(\"../output/gru4rec/dry-bush-442/cv/test_labels_clicks.pkl\", \"rb\"))\n",
    "# pred2 = pickle.load(open(\"../output/gru4rec/sage-spaceship-443/cv/test_labels_clicks.pkl\", \"rb\"))\n",
    "# pred3 = pickle.load(open(\"../output/gru4rec/crisp-glitter-347/cv/test_labels_clicks.pkl\", \"rb\"))\n",
    "pred4 = pickle.load(open(\"../output/gru4rec/vivid-yogurt-392/cv/test_labels_clicks.pkl\", \"rb\"))"
   ]
  },
  {
   "cell_type": "code",
   "execution_count": 60,
   "id": "4835fae4-c00e-4676-974b-ad23cc21882f",
   "metadata": {},
   "outputs": [
    {
     "data": {
      "text/plain": [
       "0.5075663587261767"
      ]
     },
     "execution_count": 60,
     "metadata": {},
     "output_type": "execute_result"
    }
   ],
   "source": [
    "aid_all = pred1[\"aid\"] + pred2[\"aid\"] + pred3[\"aid\"] + pred4[\"aid\"]\n",
    "\n",
    "gt = pred1[[\"ground_truth\"]]\n",
    "gt.loc[:, \"aid\"] = aid_all.apply(lambda x: topk(x))\n",
    "gt.loc[:, \"hits\"] = gt.apply(lambda df: len(set(df[\"ground_truth\"]).intersection(set(df[\"aid\"]))), axis=1)\n",
    "gt.loc[:, \"gt_count\"] = gt.ground_truth.str.len().clip(0, 20)\n",
    "gt.loc[:, \"recall\"] = gt[\"hits\"] / gt[\"gt_count\"]\n",
    "recall = gt[\"hits\"].sum() / gt[\"gt_count\"].sum()\n",
    "recall"
   ]
  },
  {
   "cell_type": "code",
   "execution_count": null,
   "id": "4ed4b340-2f77-4bad-8eb7-83c8bab80baf",
   "metadata": {},
   "outputs": [],
   "source": [
    "pred1 = pickle.load(open(\"../output/gru4rec/dry-bush-442/cv/test_labels_clicks.pkl\", \"rb\"))\n",
    "pred2 = pickle.load(open(\"../output/gru4rec/sage-spaceship-443/cv/test_labels_clicks.pkl\", \"rb\"))\n",
    "pred3 = pickle.load(open(\"../output/gru4rec/crisp-glitter-347/cv/test_labels_clicks.pkl\", \"rb\"))\n",
    "pred4 = pickle.load(open(\"../output/gru4rec/vivid-yogurt-392/cv/test_labels_clicks.pkl\", \"rb\"))"
   ]
  },
  {
   "cell_type": "code",
   "execution_count": null,
   "id": "10c3f360-49f9-4b37-b16e-0b2dd5ffccec",
   "metadata": {},
   "outputs": [],
   "source": []
  }
 ],
 "metadata": {
  "kernelspec": {
   "display_name": "Python 3 (ipykernel)",
   "language": "python",
   "name": "python3"
  },
  "language_info": {
   "codemirror_mode": {
    "name": "ipython",
    "version": 3
   },
   "file_extension": ".py",
   "mimetype": "text/x-python",
   "name": "python",
   "nbconvert_exporter": "python",
   "pygments_lexer": "ipython3",
   "version": "3.9.12"
  }
 },
 "nbformat": 4,
 "nbformat_minor": 5
}
