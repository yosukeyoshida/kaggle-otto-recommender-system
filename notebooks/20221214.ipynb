{
 "cells": [
  {
   "cell_type": "code",
   "execution_count": 1,
   "id": "107f61ff-122f-4aa7-b1dd-b1addd648ca3",
   "metadata": {},
   "outputs": [],
   "source": [
    "import pandas as pd\n",
    "import glob\n",
    "\n",
    "def calc_metrics(pred_df, output_dir):\n",
    "    score_potential = 0\n",
    "    weights = {\"clicks\": 0.10, \"carts\": 0.30, \"orders\": 0.60}\n",
    "    for t in [\"clicks\", \"carts\", \"orders\"]:\n",
    "        sub = pred_df.loc[pred_df[\"type\"] == t].copy()\n",
    "        sub = sub.groupby(\"session\")[\"aid\"].apply(list)\n",
    "        test_labels = pd.read_parquet(\"../input/otto-validation/test_labels.parquet\")\n",
    "        test_labels = test_labels.loc[test_labels[\"type\"] == t]\n",
    "        test_labels = test_labels.merge(sub, how=\"left\", on=[\"session\"])\n",
    "        test_labels = test_labels[test_labels[\"aid\"].notnull()]\n",
    "        # potential recall\n",
    "        test_labels[\"hits\"] = test_labels.apply(lambda df: len(set(df[\"ground_truth\"]).intersection(set(df[\"aid\"]))), axis=1)\n",
    "        test_labels[\"gt_count\"] = test_labels.ground_truth.str.len().clip(0, 20)\n",
    "        test_labels[\"recall\"] = test_labels[\"hits\"] / test_labels[\"gt_count\"]\n",
    "        recall = test_labels[\"hits\"].sum() / test_labels[\"gt_count\"].sum()\n",
    "        score_potential += weights[t] * recall\n",
    "        print(f\"{t} recall={recall}\")\n",
    "    print(f\"total recall={score_potential}\")\n",
    "    \n",
    "    \n",
    "def get_w2v_pred_df(exp_name):\n",
    "    pred_df = pd.read_csv(f\"../output/word2vec/{exp_name}/cv/pred_df.csv\")\n",
    "    prediction_dfs = []\n",
    "    for st in [\"clicks\", \"carts\", \"orders\"]:\n",
    "        modified_predictions = pred_df.copy()\n",
    "        modified_predictions[\"type\"] = st\n",
    "        prediction_dfs.append(modified_predictions)\n",
    "    prediction_dfs = pd.concat(prediction_dfs).reset_index(drop=True)\n",
    "    return prediction_dfs\n",
    "\n",
    "def load_test():\n",
    "    dfs = []\n",
    "    file_path = \"../input/otto-validation/test_parquet/*\"\n",
    "    for e, chunk_file in enumerate(glob.glob(file_path)):\n",
    "        chunk = pd.read_parquet(chunk_file)\n",
    "        dfs.append(chunk)\n",
    "    df = pd.concat(dfs).reset_index(drop=True)\n",
    "    df = df[[\"session\", \"aid\"]]\n",
    "    df.drop_duplicates(inplace=True)\n",
    "    prediction_dfs = []\n",
    "    for st in [\"clicks\", \"carts\", \"orders\"]:\n",
    "        modified_predictions = df.copy()\n",
    "        modified_predictions[\"type\"] = st\n",
    "        prediction_dfs.append(modified_predictions)\n",
    "    prediction_dfs = pd.concat(prediction_dfs).reset_index(drop=True)\n",
    "    return prediction_dfs"
   ]
  },
  {
   "cell_type": "code",
   "execution_count": 3,
   "id": "f730a40c-5a54-43ee-8ed0-e9a173f1e7b9",
   "metadata": {},
   "outputs": [],
   "source": [
    "test = load_test()"
   ]
  },
  {
   "cell_type": "code",
   "execution_count": 80,
   "id": "df755ec4-5f50-4c9e-87bf-10f2a39a3a6e",
   "metadata": {},
   "outputs": [
    {
     "name": "stdout",
     "output_type": "stream",
     "text": [
      "(40540983, 4)\n",
      "(116958096, 4)\n",
      "(145703275, 3)\n"
     ]
    }
   ],
   "source": [
    "w2v = get_w2v_pred_df(\"daily-frog-198\")\n",
    "covisit = pd.read_csv(\"../output/covisit/warm-forest-181/cv/pred_df.csv\")\n",
    "print(w2v.shape)\n",
    "print(covisit.shape)\n",
    "pred_df = pd.concat([w2v, covisit, test])\n",
    "pred_df = pred_df[[\"session\", \"aid\", \"type\"]]\n",
    "pred_df.drop_duplicates(inplace=True)\n",
    "print(pred_df.shape)"
   ]
  },
  {
   "cell_type": "code",
   "execution_count": 81,
   "id": "f3ef2235-619f-4b7e-b1d4-383aadd2fac9",
   "metadata": {},
   "outputs": [
    {
     "name": "stdout",
     "output_type": "stream",
     "text": [
      "clicks recall=0.5416363340157467\n",
      "carts recall=0.4439774355487249\n",
      "orders recall=0.6727959834409502\n",
      "total recall=0.5910344541307623\n"
     ]
    }
   ],
   "source": [
    "calc_metrics(pred_df, \".\")"
   ]
  },
  {
   "cell_type": "code",
   "execution_count": 83,
   "id": "e8383645-f796-43e8-b9a7-e48fa11e02b0",
   "metadata": {},
   "outputs": [
    {
     "name": "stdout",
     "output_type": "stream",
     "text": [
      "(134264607, 4)\n",
      "(116958096, 4)\n",
      "(226857437, 3)\n",
      "clicks recall=0.5584944524002383\n",
      "carts recall=0.4540783580406674\n",
      "orders recall=0.6777017775125038\n",
      "total recall=0.5986940191597263\n"
     ]
    }
   ],
   "source": [
    "w2v = get_w2v_pred_df(\"jolly-snowball-180\")\n",
    "covisit = pd.read_csv(\"../output/covisit/warm-forest-181/cv/pred_df.csv\")\n",
    "print(w2v.shape)\n",
    "print(covisit.shape)\n",
    "pred_df = pd.concat([w2v, covisit, test])\n",
    "pred_df = pred_df[[\"session\", \"aid\", \"type\"]]\n",
    "pred_df.drop_duplicates(inplace=True)\n",
    "print(pred_df.shape)\n",
    "calc_metrics(pred_df, \".\")"
   ]
  },
  {
   "cell_type": "code",
   "execution_count": 86,
   "id": "77e09730-623c-42da-b16d-ae43b38ce50c",
   "metadata": {},
   "outputs": [
    {
     "name": "stdout",
     "output_type": "stream",
     "text": [
      "(134179533, 4)\n",
      "(116958096, 4)\n",
      "(224243697, 3)\n",
      "clicks recall=0.559971495852544\n",
      "carts recall=0.45486936279016515\n",
      "orders recall=0.6779475459858348\n",
      "total recall=0.5992264860138048\n"
     ]
    }
   ],
   "source": [
    "w2v = get_w2v_pred_df(\"decent-universe-186\")\n",
    "covisit = pd.read_csv(\"../output/covisit/warm-forest-181/cv/pred_df.csv\")\n",
    "print(w2v.shape)\n",
    "print(covisit.shape)\n",
    "pred_df = pd.concat([w2v, covisit, test])\n",
    "pred_df = pred_df[[\"session\", \"aid\", \"type\"]]\n",
    "pred_df.drop_duplicates(inplace=True)\n",
    "print(pred_df.shape)\n",
    "calc_metrics(pred_df, \".\")"
   ]
  },
  {
   "cell_type": "code",
   "execution_count": 87,
   "id": "a573de74-579a-4a8b-a5d3-67111947c5c7",
   "metadata": {},
   "outputs": [
    {
     "name": "stdout",
     "output_type": "stream",
     "text": [
      "(118659354, 4)\n",
      "(116958096, 4)\n",
      "(209836310, 3)\n",
      "clicks recall=0.5563611983590179\n",
      "carts recall=0.4536845903254568\n",
      "orders recall=0.6774145156605587\n",
      "total recall=0.5981902063298741\n"
     ]
    }
   ],
   "source": [
    "w2v = get_w2v_pred_df(\"gallant-music-193\")\n",
    "covisit = pd.read_csv(\"../output/covisit/warm-forest-181/cv/pred_df.csv\")\n",
    "print(w2v.shape)\n",
    "print(covisit.shape)\n",
    "pred_df = pd.concat([w2v, covisit, test])\n",
    "pred_df = pred_df[[\"session\", \"aid\", \"type\"]]\n",
    "pred_df.drop_duplicates(inplace=True)\n",
    "print(pred_df.shape)\n",
    "calc_metrics(pred_df, \".\")"
   ]
  },
  {
   "cell_type": "code",
   "execution_count": 4,
   "id": "e27b713c-4455-4da6-ba76-26d5bba68d90",
   "metadata": {},
   "outputs": [
    {
     "name": "stdout",
     "output_type": "stream",
     "text": [
      "(213345204, 4)\n",
      "(116958096, 4)\n",
      "(295626960, 3)\n",
      "clicks recall=0.5714449278681016\n",
      "carts recall=0.4636692906283284\n",
      "orders recall=0.6825054340366993\n",
      "total recall=0.6057485403973283\n"
     ]
    }
   ],
   "source": [
    "w2v = get_w2v_pred_df(\"likely-oath-207\")\n",
    "covisit = pd.read_csv(\"../output/covisit/warm-forest-181/cv/pred_df.csv\")\n",
    "print(w2v.shape)\n",
    "print(covisit.shape)\n",
    "pred_df = pd.concat([w2v, covisit, test])\n",
    "pred_df = pred_df[[\"session\", \"aid\", \"type\"]]\n",
    "pred_df.drop_duplicates(inplace=True)\n",
    "print(pred_df.shape)\n",
    "calc_metrics(pred_df, \".\")"
   ]
  },
  {
   "cell_type": "code",
   "execution_count": null,
   "id": "09890cdc-29f8-414c-98d2-4bd1d3879dd6",
   "metadata": {},
   "outputs": [],
   "source": []
  }
 ],
 "metadata": {
  "kernelspec": {
   "display_name": "Python 3 (ipykernel)",
   "language": "python",
   "name": "python3"
  },
  "language_info": {
   "codemirror_mode": {
    "name": "ipython",
    "version": 3
   },
   "file_extension": ".py",
   "mimetype": "text/x-python",
   "name": "python",
   "nbconvert_exporter": "python",
   "pygments_lexer": "ipython3",
   "version": "3.9.12"
  }
 },
 "nbformat": 4,
 "nbformat_minor": 5
}
